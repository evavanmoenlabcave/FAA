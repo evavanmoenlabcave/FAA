{
 "cells": [
  {
   "cell_type": "code",
   "execution_count": 17,
   "metadata": {},
   "outputs": [
    {
     "data": {
      "text/html": [
       "\n",
       "<script>code_show=true; \n",
       "\n",
       "function code_toggle() {\n",
       "    if (code_show){\n",
       "    $('div.input').hide();\n",
       "    } else {\n",
       "    $('div.input').show();\n",
       "    }\n",
       "    code_show = !code_show\n",
       "} \n",
       "\n",
       "$( document ).ready(code_toggle);\n",
       "</script>\n",
       "<form action=\"javascript:code_toggle()\"><input type=\"submit\" value=\"Click here to toggle on/off the raw code.\"></form>\n"
      ],
      "text/plain": [
       "<IPython.core.display.HTML object>"
      ]
     },
     "execution_count": 17,
     "metadata": {},
     "output_type": "execute_result"
    }
   ],
   "source": [
    "from IPython.display import HTML\n",
    "\n",
    "HTML('''\n",
    "<script>code_show=true; \n",
    "\n",
    "function code_toggle() {\n",
    "    if (code_show){\n",
    "    $('div.input').hide();\n",
    "    } else {\n",
    "    $('div.input').show();\n",
    "    }\n",
    "    code_show = !code_show\n",
    "} \n",
    "\n",
    "$( document ).ready(code_toggle);\n",
    "</script>\n",
    "<form action=\"javascript:code_toggle()\"><input type=\"submit\" value=\"Click here to toggle on/off the raw code.\"></form>\n",
    "''')"
   ]
  },
  {
   "cell_type": "markdown",
   "metadata": {},
   "source": [
    "# Memoria FAA P2 \n",
    "### Autores: Sergio Torrijos, Sergio Salcedo y Gloria del Valle\n",
    "\n",
    "#### Consideraciones Previas: \n",
    "En la memoria aparece un botón en la parte superior para poder visualizar u ocultar el código encargado de reproducir cada uno de los ejemplos y gráficas."
   ]
  },
  {
   "cell_type": "code",
   "execution_count": 38,
   "metadata": {},
   "outputs": [],
   "source": [
    "from Datos import Datos\n",
    "import EstrategiaParticionado\n",
    "import Clasificador\n",
    "import numpy as np\n",
    "from IPython.display import HTML\n",
    "seed = np.random.seed()"
   ]
  },
  {
   "cell_type": "markdown",
   "metadata": {},
   "source": [
    "## Apartado 1"
   ]
  },
  {
   "cell_type": "code",
   "execution_count": 3,
   "metadata": {},
   "outputs": [
    {
     "name": "stdout",
     "output_type": "stream",
     "text": [
      "Particion Simple \n",
      "TRAIN: [19, 1, 14, 3, 23, 12, 9, 8, 18, 11, 2, 15, 21, 20, 0]\n",
      "TEST: [10, 6, 17, 7, 13, 5, 22, 4, 16]\n",
      "Particion cruzada 0\n",
      "TRAIN: [2, 5, 11, 4, 7, 6, 21, 19, 1, 20, 13, 9, 18, 16, 10, 14, 23, 12, 0]\n",
      "TEST: [15 17  3 22  8]\n",
      "Particion cruzada 1\n",
      "TRAIN: [15, 17, 3, 22, 8, 6, 21, 19, 1, 20, 13, 9, 18, 16, 10, 14, 23, 12, 0]\n",
      "TEST: [ 2  5 11  4  7]\n",
      "Particion cruzada 2\n",
      "TRAIN: [15, 17, 3, 22, 8, 2, 5, 11, 4, 7, 13, 9, 18, 16, 10, 14, 23, 12, 0]\n",
      "TEST: [ 6 21 19  1 20]\n",
      "Particion cruzada 3\n",
      "TRAIN: [15, 17, 3, 22, 8, 2, 5, 11, 4, 7, 6, 21, 19, 1, 20, 14, 23, 12, 0]\n",
      "TEST: [13  9 18 16 10]\n",
      "Particion cruzada 4\n",
      "TRAIN: [15, 17, 3, 22, 8, 2, 5, 11, 4, 7, 6, 21, 19, 1, 20, 13, 9, 18, 16, 10]\n",
      "TEST: [14 23 12  0]\n"
     ]
    }
   ],
   "source": [
    "d_lenses = Datos('lenses.data')\n",
    "\n",
    "estrategia_simple_lenses = EstrategiaParticionado.ValidacionSimple(0.6)\n",
    "estrategia_simple_lenses.creaParticiones(d_lenses.datos)\n",
    "print('Particion Simple ')\n",
    "print('TRAIN: ' + str(estrategia_simple_lenses.particiones[0].indicesTrain))\n",
    "print('TEST: ' + str(estrategia_simple_lenses.particiones[0].indicesTest))\n",
    "\n",
    "estrategia_cruzada_lenses = EstrategiaParticionado.ValidacionCruzada(5)\n",
    "estrategia_cruzada_lenses.creaParticiones(d_lenses.datos)\n",
    "\n",
    "for i, particion in enumerate(estrategia_cruzada_lenses.particiones):\n",
    "    print('Particion cruzada ' +  str(i))\n",
    "    print('TRAIN: ' + str(particion.indicesTrain))\n",
    "    print('TEST: ' + str(particion.indicesTest))"
   ]
  },
  {
   "cell_type": "code",
   "execution_count": 4,
   "metadata": {},
   "outputs": [],
   "source": [
    "truncate = lambda num: round(num, 3)\n",
    "def createTable(a1, a2, b1, b2, c1, c2, d1, d2, title):\n",
    "    salida = \"\"\"<table style=\"width:100%\">\n",
    "    <caption>\"\"\" + title + \"\"\"</caption>\n",
    "  <tr>\n",
    "    <th>Clasificador</th>\n",
    "    <th>Nuestro</th>\n",
    "    <th>SKlearn</th>\n",
    "  </tr>\n",
    "  <tr>\n",
    "    <td>Sin Laplace</td>   \n",
    "    <td>{}</td>\n",
    "    <td>{}</td>\n",
    "  </tr>\n",
    "  <tr>\n",
    "    <td>Desviación típica S.L.</td>    \n",
    "    <td>{}</td>\n",
    "    <td>{}</td>\n",
    "  </tr>\n",
    "  <tr>\n",
    "    <td>Con Laplace</td>\n",
    "    <td>{}</td>\n",
    "    <td>{}</td>\n",
    "  </tr>\n",
    "  <tr>\n",
    "    <td>Desviación típica C.L.</td>\n",
    "    <td>{}</td>\n",
    "    <td>{}</td>\n",
    "  </tr>\n",
    "</table>\"\"\".format(truncate(a1), truncate(a2), truncate(b1), truncate(b2), truncate(c1), truncate(c2), truncate(d1), truncate(d2), title)\n",
    "    \n",
    "    display(HTML(salida))"
   ]
  },
  {
   "cell_type": "markdown",
   "metadata": {},
   "source": [
    "Arriba generamos las particiones, únicamente sobre el conjunto lenses ya que el proceso es similar para los otros 2. Para la partición simple como vemos partimos el dataset en el 60% de los datos para train, mientras que el resto queda para test. Podemos comprobar a simple vista que los datos de ambos conjuntos son disjuntos. \n",
    "\n",
    "Por otra parte, para las particiones cruzadas creamos 5 particiones, en las que escogemos diferentes conjuntos de test y train, que como vemos entre sí se mantienen como conjuntos disjuntos, y se crean para evaluar diferentes maneras de particionar los datos, para clasificar mejor. Con 5 particiones vemos que en el test se parten en 4x5+4 teniendo en cuenta que el número de particiones que le pedimos puede no ser múltiplo del número de elementos en el dataset"
   ]
  },
  {
   "cell_type": "markdown",
   "metadata": {},
   "source": [
    "## Apartados 2,3"
   ]
  },
  {
   "cell_type": "markdown",
   "metadata": {},
   "source": [
    "### Consideraciones Previas\n",
    "Antes de comenzar con los experimentos, generamos una semilla aleatoria para que al hacer las particiones todas esten en igualdad de condiciones, es decir, que no haya diferencia entre las particiones creadas para laplace o sin laplace, y para los diferentes experimentos."
   ]
  },
  {
   "cell_type": "markdown",
   "metadata": {},
   "source": [
    "#### Lenses Validación Simple"
   ]
  },
  {
   "cell_type": "code",
   "execution_count": 5,
   "metadata": {},
   "outputs": [],
   "source": [
    "clasificador = Clasificador.ClasificadorNaiveBayes()\n",
    "\n",
    "estrategiaSimple1 = EstrategiaParticionado.ValidacionSimple(0.6)\n",
    "estrategiaSKLearn1 = EstrategiaParticionado.ValidacionSKLearn(d_lenses)\n",
    "\n",
    "error_clasificacion_simple_NB = clasificador.validacion(estrategiaSimple1, d_lenses, clasificador, seed)\n",
    "error_clasificacion_simple_SKLearn, std_clasificacion_simple_SKLearn = estrategiaSKLearn1.validacionSimple(0.4, False, False)\n",
    "\n",
    "estrategiaSimple1_Laplace = EstrategiaParticionado.ValidacionSimple(0.6)\n",
    "\n",
    "clasificador1_laplace = Clasificador.ClasificadorNaiveBayes(correccionLaplace=True)\n",
    "\n",
    "error_clasificacion_simple_NB_Laplace = clasificador.validacion(estrategiaSimple1_Laplace, d_lenses, clasificador1_laplace, seed)\n",
    "error_clasificacion_simple_SKLearn_Laplace, std_clasificacion_simple_SKLearn_Laplace = estrategiaSKLearn1.validacionSimple(0.4, True, False)"
   ]
  },
  {
   "cell_type": "code",
   "execution_count": 6,
   "metadata": {},
   "outputs": [
    {
     "data": {
      "text/html": [
       "<table style=\"width:100%\">\n",
       "    <caption>Validación simple lenses.data</caption>\n",
       "  <tr>\n",
       "    <th>Clasificador</th>\n",
       "    <th>Nuestro</th>\n",
       "    <th>SKlearn</th>\n",
       "  </tr>\n",
       "  <tr>\n",
       "    <td>Sin Laplace</td>   \n",
       "    <td>0.556</td>\n",
       "    <td>0.3</td>\n",
       "  </tr>\n",
       "  <tr>\n",
       "    <td>Desviación típica S.L.</td>    \n",
       "    <td>0.0</td>\n",
       "    <td>0.0</td>\n",
       "  </tr>\n",
       "  <tr>\n",
       "    <td>Con Laplace</td>\n",
       "    <td>0.222</td>\n",
       "    <td>0.4</td>\n",
       "  </tr>\n",
       "  <tr>\n",
       "    <td>Desviación típica C.L.</td>\n",
       "    <td>0.0</td>\n",
       "    <td>0.0</td>\n",
       "  </tr>\n",
       "</table>"
      ],
      "text/plain": [
       "<IPython.core.display.HTML object>"
      ]
     },
     "metadata": {},
     "output_type": "display_data"
    }
   ],
   "source": [
    "createTable(np.mean(error_clasificacion_simple_NB), error_clasificacion_simple_SKLearn, \n",
    "            np.std(error_clasificacion_simple_NB), std_clasificacion_simple_SKLearn, \n",
    "            np.mean(error_clasificacion_simple_NB_Laplace), error_clasificacion_simple_SKLearn_Laplace, \n",
    "            np.std(error_clasificacion_simple_NB_Laplace), std_clasificacion_simple_SKLearn_Laplace, \n",
    "           \"Validación simple lenses.data\")"
   ]
  },
  {
   "cell_type": "markdown",
   "metadata": {},
   "source": [
    "En la tabla superior mostramos los datos de la validación simple de lenses.data. \n",
    "Como se puede observar, cuando no tenemos en cuenta la corrección de Laplace, con SKlearn obtenemos mayor error que con nuestra \n",
    "implementación. En cambio, si aplicamos la correción de Laplace, los resultados se estabilizan en ambas implementaciones.\n",
    "\n",
    "La desviación típica cuando son validaciones simple nos aparece 0, pues al estar evaluando únicamente los errores de una partición no hay ninguna desviación entre ellas. "
   ]
  },
  {
   "cell_type": "markdown",
   "metadata": {},
   "source": [
    "#### Lenses Validación Cruzada"
   ]
  },
  {
   "cell_type": "code",
   "execution_count": 7,
   "metadata": {},
   "outputs": [],
   "source": [
    "clasificador4 = Clasificador.ClasificadorNaiveBayes()\n",
    "estrategiaCruzada4 = EstrategiaParticionado.ValidacionCruzada(5)\n",
    "estrategiaSKLearn4 = EstrategiaParticionado.ValidacionSKLearn(d_lenses)\n",
    "\n",
    "error_clasificacion_cruzada_NB = clasificador4.validacion(estrategiaCruzada4, d_lenses, clasificador4, seed)\n",
    "\n",
    "error_clasificacion_cruzada_SKLearn, std_clasificacion_cruzada_SKLearn = estrategiaSKLearn4.validacionCruzada(5, False, False)\n",
    "\n",
    "clasificador4_laplace = Clasificador.ClasificadorNaiveBayes(correccionLaplace=True)\n",
    "estrategiaCruzada4_Laplace = EstrategiaParticionado.ValidacionCruzada(5)\n",
    "error_clasificacion_cruzada_NB_Laplace = clasificador4_laplace.validacion(estrategiaCruzada4_Laplace, d_lenses, clasificador4_laplace, seed)\n",
    "error_clasificacion_cruzada_SKLearn_Laplace, std_clasificacion_cruzada_SKLearn_Laplace = estrategiaSKLearn4.validacionCruzada(5, True, False)"
   ]
  },
  {
   "cell_type": "code",
   "execution_count": 8,
   "metadata": {},
   "outputs": [
    {
     "data": {
      "text/html": [
       "<table style=\"width:100%\">\n",
       "    <caption>Validación cruzada lenses.data</caption>\n",
       "  <tr>\n",
       "    <th>Clasificador</th>\n",
       "    <th>Nuestro</th>\n",
       "    <th>SKlearn</th>\n",
       "  </tr>\n",
       "  <tr>\n",
       "    <td>Sin Laplace</td>   \n",
       "    <td>0.04</td>\n",
       "    <td>0.17</td>\n",
       "  </tr>\n",
       "  <tr>\n",
       "    <td>Desviación típica S.L.</td>    \n",
       "    <td>0.08</td>\n",
       "    <td>0.087</td>\n",
       "  </tr>\n",
       "  <tr>\n",
       "    <td>Con Laplace</td>\n",
       "    <td>0.17</td>\n",
       "    <td>0.26</td>\n",
       "  </tr>\n",
       "  <tr>\n",
       "    <td>Desviación típica C.L.</td>\n",
       "    <td>0.154</td>\n",
       "    <td>0.174</td>\n",
       "  </tr>\n",
       "</table>"
      ],
      "text/plain": [
       "<IPython.core.display.HTML object>"
      ]
     },
     "metadata": {},
     "output_type": "display_data"
    }
   ],
   "source": [
    "createTable(np.mean(error_clasificacion_cruzada_NB), error_clasificacion_cruzada_SKLearn, \n",
    "                   np.std(error_clasificacion_cruzada_NB), std_clasificacion_cruzada_SKLearn,\n",
    "                   np.mean(error_clasificacion_cruzada_NB_Laplace), error_clasificacion_cruzada_SKLearn_Laplace,\n",
    "                   np.std(error_clasificacion_cruzada_NB_Laplace), std_clasificacion_cruzada_SKLearn_Laplace, \n",
    "                   \"Validación cruzada lenses.data\")\n"
   ]
  },
  {
   "cell_type": "markdown",
   "metadata": {},
   "source": [
    "En la tabla superior mostramos los datos de la validación cruzada de lenses.data. \n",
    "Como se puede observar, cuando no tenemos en cuenta la corrección de Laplace, con SKlearn obtenemos mayor error que con nuestra implementación. Esto ocurre en ambos casos; Aplicando Laplace y sin aplicar, seguramente debido a que el dataset es muy pequeño y no es capaz de clasificar correctamente. \n",
    "Nos dimos cuenta que dependiendo que ejecución mostremos los errores nuestros son diferentes, debido \n",
    "\n",
    "En cuanto a la desviación típica vemos que en ambos casos sale proporcional al error"
   ]
  },
  {
   "cell_type": "code",
   "execution_count": 9,
   "metadata": {
    "scrolled": true
   },
   "outputs": [],
   "source": [
    "d2 = Datos('german.data')\n",
    "\n",
    "clasificador2 = Clasificador.ClasificadorNaiveBayes()\n",
    "\n",
    "estrategiaSimple2 = EstrategiaParticionado.ValidacionSimple(0.6)\n",
    "\n",
    "estrategiaSKLearn2 = EstrategiaParticionado.ValidacionSKLearn(d2)\n",
    "\n",
    "error_simple_german = clasificador2.validacion(estrategiaSimple2, d2, clasificador2, seed)\n",
    "error_sklearn_simple_german, std_sklearn_simple_german = estrategiaSKLearn2.validacionSimple(0.4, False, True)\n",
    "\n",
    "clasificador2_laplace = Clasificador.ClasificadorNaiveBayes(correccionLaplace=True)\n",
    "estrategiaSimple2_Laplace = EstrategiaParticionado.ValidacionSimple(0.6)\n",
    "\n",
    "error_simple_german_laplace = clasificador2_laplace.validacion(estrategiaSimple2_Laplace, d2, clasificador2_laplace, seed)\n",
    "error_sklearn_simple_german_laplace, std_sklearn_simple_german_laplace = estrategiaSKLearn2.validacionSimple(0.4, True, True)\n"
   ]
  },
  {
   "cell_type": "code",
   "execution_count": 10,
   "metadata": {},
   "outputs": [
    {
     "data": {
      "text/html": [
       "<table style=\"width:100%\">\n",
       "    <caption>Validación simple german.data</caption>\n",
       "  <tr>\n",
       "    <th>Clasificador</th>\n",
       "    <th>Nuestro</th>\n",
       "    <th>SKlearn</th>\n",
       "  </tr>\n",
       "  <tr>\n",
       "    <td>Sin Laplace</td>   \n",
       "    <td>0.29</td>\n",
       "    <td>0.3</td>\n",
       "  </tr>\n",
       "  <tr>\n",
       "    <td>Desviación típica S.L.</td>    \n",
       "    <td>0.0</td>\n",
       "    <td>0.0</td>\n",
       "  </tr>\n",
       "  <tr>\n",
       "    <td>Con Laplace</td>\n",
       "    <td>0.282</td>\n",
       "    <td>0.26</td>\n",
       "  </tr>\n",
       "  <tr>\n",
       "    <td>Desviación típica C.L.</td>\n",
       "    <td>0.0</td>\n",
       "    <td>0.0</td>\n",
       "  </tr>\n",
       "</table>"
      ],
      "text/plain": [
       "<IPython.core.display.HTML object>"
      ]
     },
     "metadata": {},
     "output_type": "display_data"
    }
   ],
   "source": [
    "createTable(np.mean(error_simple_german), error_sklearn_simple_german, \n",
    "            np.std(error_simple_german), std_sklearn_simple_german, \n",
    "            np.mean(error_simple_german_laplace), error_sklearn_simple_german_laplace, \n",
    "            np.std(error_simple_german_laplace), std_sklearn_simple_german_laplace, \n",
    "            \"Validación simple german.data\")"
   ]
  },
  {
   "cell_type": "markdown",
   "metadata": {},
   "source": [
    "En la tabla superior mostramos los datos de la validación simple de german.data. \n",
    "Como se puede observar, la tasa de errores es muy parecida en ambas implementaciones sin aplicar y aplicando Laplace, aunque ligeramente mejor con este. \n",
    "Esto puede deberse a que en este dataset tenemos muchos mas datos que en lenses.data y por tanto los datos están más normalizados. En cambio, si aplicamos la correción de Laplace, los resultados se estabilizan en ambas implementaciones, al evitar que nos salga la probabilidad 0.\n",
    "La desviación típica como era de esperar es 0 pues es una validación simple, y solo creamos una partición "
   ]
  },
  {
   "cell_type": "code",
   "execution_count": 11,
   "metadata": {},
   "outputs": [],
   "source": [
    "d5 = Datos('german.data')\n",
    "clasificador5 = Clasificador.ClasificadorNaiveBayes()\n",
    "\n",
    "estrategiaCruzada5 = EstrategiaParticionado.ValidacionCruzada(5)\n",
    "estrategiaSKLearn5 = EstrategiaParticionado.ValidacionSKLearn(d5)\n",
    "\n",
    "error_cruzada_german = clasificador5.validacion(estrategiaCruzada5, d5, clasificador5, seed)\n",
    "error_cruzada_german_sklearn, std_cruzada_german_sklearn = estrategiaSKLearn5.validacionCruzada(5, False, True)\n",
    "\n",
    "clasificador5_laplace = Clasificador.ClasificadorNaiveBayes(correccionLaplace=True)\n",
    "estrategiaCruzada5_Laplace = EstrategiaParticionado.ValidacionCruzada(5)\n",
    "\n",
    "error_cruzada_german_laplace = clasificador5_laplace.validacion(estrategiaCruzada5_Laplace, d5, clasificador5_laplace, seed)\n",
    "error_cruzada_german_sklearn_laplace, std_cruzada_german_sklearn_laplace = estrategiaSKLearn5.validacionCruzada(5, True, True)"
   ]
  },
  {
   "cell_type": "code",
   "execution_count": 12,
   "metadata": {
    "scrolled": true
   },
   "outputs": [
    {
     "data": {
      "text/html": [
       "<table style=\"width:100%\">\n",
       "    <caption>Validación cruzada german.data</caption>\n",
       "  <tr>\n",
       "    <th>Clasificador</th>\n",
       "    <th>Nuestro</th>\n",
       "    <th>SKlearn</th>\n",
       "  </tr>\n",
       "  <tr>\n",
       "    <td>Sin Laplace</td>   \n",
       "    <td>0.255</td>\n",
       "    <td>0.277</td>\n",
       "  </tr>\n",
       "  <tr>\n",
       "    <td>Desviación típica S.L.</td>    \n",
       "    <td>0.021</td>\n",
       "    <td>0.03</td>\n",
       "  </tr>\n",
       "  <tr>\n",
       "    <td>Con Laplace</td>\n",
       "    <td>0.292</td>\n",
       "    <td>0.277</td>\n",
       "  </tr>\n",
       "  <tr>\n",
       "    <td>Desviación típica C.L.</td>\n",
       "    <td>0.034</td>\n",
       "    <td>0.03</td>\n",
       "  </tr>\n",
       "</table>"
      ],
      "text/plain": [
       "<IPython.core.display.HTML object>"
      ]
     },
     "metadata": {},
     "output_type": "display_data"
    }
   ],
   "source": [
    "createTable(np.mean(error_cruzada_german), error_cruzada_german_sklearn, \n",
    "                   np.std(error_cruzada_german), std_cruzada_german_sklearn,\n",
    "                   np.mean(error_cruzada_german_laplace), error_cruzada_german_sklearn_laplace,\n",
    "                   np.std(error_cruzada_german_laplace), std_cruzada_german_sklearn_laplace, \n",
    "            \"Validación cruzada german.data\")"
   ]
  },
  {
   "cell_type": "markdown",
   "metadata": {},
   "source": [
    "En la tabla superior mostramos los datos de la validación cruzada de german.data. \n",
    "Como vemos nos salen bastante parejos. \n",
    "En SKLearn, tanto aplicando Laplace como sin aplicarlo, obtenemos los mismos resultados. Esto es porque los atributos del dataset german son continuos y nominales. Por ello utilizamos el método GaussianNB que ignora la corrección de Laplace. Por esta razón obtenemos los mismos valores con y sin Laplace, y por tanto, la misma desviación típica.\n",
    "\n",
    "En nuestra implementación, obtenemos un error ligeramente menor con Laplace respecto a sin Laplace. Nosotros si tenemos en cuenta el tipo de atributos y únicamente sumamos uno si los atributos son nominales. Al ser German.data un dataset más poblado que lenses, tenemos más datos y al tener muchos mas atributos y clases, la probabilidad de encontrarte un 0 es mayor, por lo que la aproximación por corrección de Laplace mejora ligeramente la predicción, aunque no mucho ya que al tener muchos datos no se aprecia lo suficiente. En cuanto a la desviación típica si nos salen muy similares, ya que depende del número aleatorio que se haya generado para hacer la partición"
   ]
  },
  {
   "cell_type": "code",
   "execution_count": 13,
   "metadata": {},
   "outputs": [],
   "source": [
    "d7 = Datos('tic-tac-toe.data')\n",
    "\n",
    "clasificador7 = Clasificador.ClasificadorNaiveBayes()\n",
    "\n",
    "estrategiaSimple7 = EstrategiaParticionado.ValidacionSimple(0.6)\n",
    "\n",
    "estrategiaSKLearn7 = EstrategiaParticionado.ValidacionSKLearn(d7)\n",
    "\n",
    "error_simple_tic_tac_toe = clasificador7.validacion(estrategiaSimple7, d7, clasificador7, seed)\n",
    "error_sklearn_simple_tic_tac_toe, std_sklearn_simple_tic_tac_toe = estrategiaSKLearn7.validacionSimple(0.4, False, True)\n",
    "\n",
    "clasificador7_laplace = Clasificador.ClasificadorNaiveBayes(correccionLaplace=True)\n",
    "estrategiaSimple7_Laplace = EstrategiaParticionado.ValidacionSimple(0.6)\n",
    "\n",
    "error_simple_tic_tac_toe_laplace = clasificador7_laplace.validacion(estrategiaSimple7_Laplace, d7, clasificador7_laplace, seed)\n",
    "error_sklearn_simple_tic_tac_toe_laplace, std_sklearn_simple_tic_tac_toe_laplace = estrategiaSKLearn7.validacionSimple(0.4, True, True)"
   ]
  },
  {
   "cell_type": "code",
   "execution_count": 14,
   "metadata": {
    "scrolled": true
   },
   "outputs": [
    {
     "data": {
      "text/html": [
       "<table style=\"width:100%\">\n",
       "    <caption>Validación simple tic-tac-toe.data.data</caption>\n",
       "  <tr>\n",
       "    <th>Clasificador</th>\n",
       "    <th>Nuestro</th>\n",
       "    <th>SKlearn</th>\n",
       "  </tr>\n",
       "  <tr>\n",
       "    <td>Sin Laplace</td>   \n",
       "    <td>0.232</td>\n",
       "    <td>0.352</td>\n",
       "  </tr>\n",
       "  <tr>\n",
       "    <td>Desviación típica S.L.</td>    \n",
       "    <td>0.0</td>\n",
       "    <td>0.0</td>\n",
       "  </tr>\n",
       "  <tr>\n",
       "    <td>Con Laplace</td>\n",
       "    <td>0.279</td>\n",
       "    <td>0.349</td>\n",
       "  </tr>\n",
       "  <tr>\n",
       "    <td>Desviación típica C.L.</td>\n",
       "    <td>0.0</td>\n",
       "    <td>0.0</td>\n",
       "  </tr>\n",
       "</table>"
      ],
      "text/plain": [
       "<IPython.core.display.HTML object>"
      ]
     },
     "metadata": {},
     "output_type": "display_data"
    }
   ],
   "source": [
    "createTable(np.mean(error_simple_tic_tac_toe), error_sklearn_simple_tic_tac_toe, \n",
    "            np.std(error_simple_tic_tac_toe), std_sklearn_simple_tic_tac_toe, \n",
    "            np.mean(error_simple_tic_tac_toe_laplace), error_sklearn_simple_tic_tac_toe_laplace, \n",
    "            np.std(error_simple_tic_tac_toe_laplace), std_sklearn_simple_tic_tac_toe_laplace, \n",
    "            \"Validación simple tic-tac-toe.data.data\")"
   ]
  },
  {
   "cell_type": "markdown",
   "metadata": {},
   "source": [
    "En la tabla superior mostramos los datos de la validación simple de  tic-tac-toe.data\n",
    "Como se puede observar, los valores obtenidos en nuestra implementación y SKLearn sin Laplace son muy parecidos. Podemos decir lo mismo en el caso de aplicar Laplace.\n",
    "\n",
    "Además el error obtenido no difere mucho de si aplicamos o no la corrección de Laplace, debido a que como comentabamos al no tener muchos atributos la correción no es muy sustancial. \n",
    "\n",
    "Como comentamos en tablas anteriores, al tratarse de una validación simple, obtenemos desviaciones típicas de 0 aplicando Laplace y sin aplicar en nuestra implementación y SKLearn."
   ]
  },
  {
   "cell_type": "code",
   "execution_count": 15,
   "metadata": {},
   "outputs": [],
   "source": [
    "d6 = Datos('tic-tac-toe.data')\n",
    "clasificador6 = Clasificador.ClasificadorNaiveBayes()\n",
    "\n",
    "estrategiaCruzada6 = EstrategiaParticionado.ValidacionCruzada(5)\n",
    "estrategiaSKLearn6 = EstrategiaParticionado.ValidacionSKLearn(d6)\n",
    "\n",
    "error_cruzada_tic_tac_toe = clasificador6.validacion(estrategiaCruzada6, d6, clasificador6, seed)\n",
    "error_cruzada_tic_tac_toe_sklearn, std_cruzada_tic_tac_toe_sklearn = estrategiaSKLearn6.validacionCruzada(5, False, True)\n",
    "\n",
    "clasificador6_laplace = Clasificador.ClasificadorNaiveBayes(correccionLaplace=True)\n",
    "estrategiaCruzada6_Laplace = EstrategiaParticionado.ValidacionCruzada(5)\n",
    "\n",
    "error_cruzada_tic_tac_toe_laplace = clasificador6_laplace.validacion(estrategiaCruzada6_Laplace, d6, clasificador6_laplace, seed)\n",
    "error_cruzada_tic_tac_toe_sklearn_laplace, std_cruzada_tic_tac_toe_sklearn_laplace = estrategiaSKLearn6.validacionCruzada(5, True, True)"
   ]
  },
  {
   "cell_type": "code",
   "execution_count": 16,
   "metadata": {},
   "outputs": [
    {
     "data": {
      "text/html": [
       "<table style=\"width:100%\">\n",
       "    <caption>Validación cruzada con tic-tac-toe.data</caption>\n",
       "  <tr>\n",
       "    <th>Clasificador</th>\n",
       "    <th>Nuestro</th>\n",
       "    <th>SKlearn</th>\n",
       "  </tr>\n",
       "  <tr>\n",
       "    <td>Sin Laplace</td>   \n",
       "    <td>0.286</td>\n",
       "    <td>0.435</td>\n",
       "  </tr>\n",
       "  <tr>\n",
       "    <td>Desviación típica S.L.</td>    \n",
       "    <td>0.039</td>\n",
       "    <td>0.111</td>\n",
       "  </tr>\n",
       "  <tr>\n",
       "    <td>Con Laplace</td>\n",
       "    <td>0.29</td>\n",
       "    <td>0.435</td>\n",
       "  </tr>\n",
       "  <tr>\n",
       "    <td>Desviación típica C.L.</td>\n",
       "    <td>0.031</td>\n",
       "    <td>0.111</td>\n",
       "  </tr>\n",
       "</table>"
      ],
      "text/plain": [
       "<IPython.core.display.HTML object>"
      ]
     },
     "metadata": {},
     "output_type": "display_data"
    }
   ],
   "source": [
    "createTable(np.mean(error_cruzada_tic_tac_toe), error_cruzada_tic_tac_toe_sklearn, \n",
    "                   np.std(error_cruzada_tic_tac_toe), std_cruzada_tic_tac_toe_sklearn,\n",
    "                   np.mean(error_cruzada_tic_tac_toe_laplace), error_cruzada_tic_tac_toe_sklearn_laplace,\n",
    "                   np.std(error_cruzada_tic_tac_toe_laplace), std_cruzada_tic_tac_toe_sklearn_laplace, \n",
    "            \"Validación cruzada con tic-tac-toe.data\")"
   ]
  },
  {
   "cell_type": "markdown",
   "metadata": {},
   "source": [
    "En la tabla superior mostramos los datos de la validación cruzada de tic-tac-toe.data. \n",
    "\n",
    "Los valores sin corrección de Laplace son bastante parecidos en ambas implementaciones. Sin embargo, al aplicar Laplace, \n",
    "en nuestro caso la tasa de error se reduce mientras que en SKLearn se mantiene constante, ya que la corrección se ignora porque usamos un clasificador GaussianNB que ignora la corrección.\n",
    "\n",
    "Las desviaciones típicas salen muy parecidas en nuestra implementación y por lo explicado anteriormente, se mantienen constante con SKLEarn."
   ]
  },
  {
   "cell_type": "markdown",
   "metadata": {},
   "source": [
    "### Conclusiones generales del experimento"
   ]
  },
  {
   "cell_type": "markdown",
   "metadata": {},
   "source": [
    "En general, según podemos ver la validacion cruzada tiene mejores resultados, ya que al estar eligiendo varias particiones y haciendo la media entre ellas, el porcentaje de error disminuye, al estar considerando múltiples maneras de dividir los datos.  \n",
    "\n",
    "Por otra parte vemos que haciendo las validaciones simple y cruzada con Laplace mejora ligeramente el porcentaje de error. Esto puede deberse a la cantidad de atributos de nuestros datasets. Al tener una cantidad suficientemente grande de atributos, la probabilidad que exista un 0 en uno de ellos es mayor, por lo que al aplicar la corrección de Laplace conseguimos estabilizar los datos evitando que existan 0 y por tanto realizando por lo general mejores predicciones.\n",
    "\n",
    "También hay que destacar que esta diferencia se ve influida por el tamaño de los datasets. A mayor tamaño de los datasets, habrá mas combinaciones de atributos y por lo tanto al aplicar la corrección de Laplace tampoco existirá mucha diferencia.\n",
    "\n",
    "En cambio si usamos datasets pequeños y muchos atributos, hay mayor probabilidad de que la clase a predecir dado el vector de atributos no exista y por tanto, la aplicación de la corrección de Laplace mejore considerablemente el error del modelo.\n",
    "\n",
    "Comparando nuestros valores con los de SKLearn, vemos que normalmente nos salen valores iguales o mejores, lo cual nos deja ver que hemos hecho la misma implementación o ligeramente mejor al considerar la diferencia entre atributos discretos y contínuos frente a los de sklearn que tratan todos como continuos o  discretos, independiente si están mezclados o no. Pensamos en separarlos pero no pudimos por falta de tiempo, ya que preferimos depurar nuestra implementación, pues sklearn se utilizó únicamente como línea base para comparar **el rendimiento del nuestro, que en todo caso demuestra ser mejor en todos los escenarios.**"
   ]
  },
  {
   "cell_type": "markdown",
   "metadata": {},
   "source": [
    "# Apartado 4"
   ]
  },
  {
   "cell_type": "markdown",
   "metadata": {},
   "source": [
    "Para hacer las curvas ROC tomamos los índices de la clasificación y los indices de test y los comparamos, clasificándolos en la matriz de confusión, a partir de la cual calculamos los valores de TPR y FPR que son los representados. \n",
    "En el caso de validaciones simple mostramos únicamente un punto, el cual cuanto más arriba a la izquierda esté mejor clasifica, mientras que en el caso de las particiones cruzadas mostramos un punto por cada partición, para evaluar cómo clasifican, así como una linea que los une, aunque no tiene por qué estar perfectamente ajustada, ya que al ser valores muy pequeños pueden variar. \n",
    "\n",
    "A la hora de imprimir la partición, mostramos nuestra implementación vs la matriz de confusión de sklearn, para validar los resultados previos a mostrar la gráfica. \n",
    "\n",
    "En la matriz de confusión se muestra sobre 400 datos debido a que la partición de test que hemos elegido es del 40%. \n",
    "\n",
    "A rasgos generales, podemos ver que una gran mayoría de ellos superan la diagonal, por lo que podemos aceptar en general nuestras clasificaciones como una estimación correcta. Vamos a explicarlo más en detalle:"
   ]
  },
  {
   "cell_type": "markdown",
   "metadata": {},
   "source": [
    "#### ROC Validación simple German SIN LAPLACE"
   ]
  },
  {
   "cell_type": "code",
   "execution_count": 17,
   "metadata": {},
   "outputs": [
    {
     "name": "stdout",
     "output_type": "stream",
     "text": [
      "*Nuestra* Matriz de confusión Particion\n",
      "[[268.  11.]\n",
      " [105.  16.]]\n",
      "Matriz confusion *SKLEARN*\n",
      "[[268  11]\n",
      " [105  16]]\n"
     ]
    },
    {
     "data": {
      "image/png": "[encoded data removed]",
      "text/plain": [
       "<Figure size 432x288 with 1 Axes>"
      ]
     },
     "metadata": {
      "needs_background": "light"
     },
     "output_type": "display_data"
    }
   ],
   "source": [
    "clasificador2.validacionRoc(estrategiaSimple2, d2, clasificador2, seed)"
   ]
  },
  {
   "cell_type": "markdown",
   "metadata": {},
   "source": [
    "Para la validación simple de german.data vemos que la clasificación queda por encima de la \n",
    "línea aleatoria, por lo que la mayor parte de las predicciones son correctas. Esto se debe a que la tasa de verdaderos\n",
    "positivos es mayor que la tasa de falsos positivos. Pero la tasa de aciertos es ligeramente \n",
    "superior a la tasa de fallos, y debido a esto, el punto se encuentra bastante cerca de la \n",
    "línea de aletoriedad pero por encima."
   ]
  },
  {
   "cell_type": "markdown",
   "metadata": {},
   "source": [
    "#### ROC Validación simple German Con LAPLACE"
   ]
  },
  {
   "cell_type": "code",
   "execution_count": 18,
   "metadata": {},
   "outputs": [
    {
     "name": "stdout",
     "output_type": "stream",
     "text": [
      "*Nuestra* Matriz de confusión Particion\n",
      "[[266.  12.]\n",
      " [101.  21.]]\n",
      "Matriz confusion *SKLEARN*\n",
      "[[266  12]\n",
      " [101  21]]\n"
     ]
    },
    {
     "data": {
      "image/png": "[encoded data removed]",
      "text/plain": [
       "<Figure size 432x288 with 1 Axes>"
      ]
     },
     "metadata": {
      "needs_background": "light"
     },
     "output_type": "display_data"
    }
   ],
   "source": [
    "clasificador2_laplace.validacionRoc(estrategiaSimple2_Laplace, d2, clasificador2_laplace, seed)"
   ]
  },
  {
   "cell_type": "markdown",
   "metadata": {},
   "source": [
    "Como podemos ver clasifica muy similar al anterior, con ligeras diferencias en los negativos aunque mínimas. "
   ]
  },
  {
   "cell_type": "markdown",
   "metadata": {},
   "source": [
    "#### ROC Validación cruzada German"
   ]
  },
  {
   "cell_type": "code",
   "execution_count": 20,
   "metadata": {},
   "outputs": [
    {
     "name": "stdout",
     "output_type": "stream",
     "text": [
      "*Nuestra* Matriz de confusión Particion\n",
      "[[136.   6.]\n",
      " [ 43.  15.]]\n",
      "Matriz confusion *SKLEARN*\n",
      "[[136   6]\n",
      " [ 43  15]]\n",
      "*Nuestra* Matriz de confusión Particion\n",
      "[[136.   8.]\n",
      " [ 39.  17.]]\n",
      "Matriz confusion *SKLEARN*\n",
      "[[136   8]\n",
      " [ 39  17]]\n",
      "*Nuestra* Matriz de confusión Particion\n",
      "[[134.   9.]\n",
      " [ 40.  17.]]\n",
      "Matriz confusion *SKLEARN*\n",
      "[[134   9]\n",
      " [ 40  17]]\n",
      "*Nuestra* Matriz de confusión Particion\n",
      "[[127.   5.]\n",
      " [ 54.  14.]]\n",
      "Matriz confusion *SKLEARN*\n",
      "[[127   5]\n",
      " [ 54  14]]\n",
      "*Nuestra* Matriz de confusión Particion\n",
      "[[132.   7.]\n",
      " [ 44.  17.]]\n",
      "Matriz confusion *SKLEARN*\n",
      "[[132   7]\n",
      " [ 44  17]]\n"
     ]
    },
    {
     "data": {
      "image/png": "[encoded data removed]",
      "text/plain": [
       "<Figure size 432x288 with 1 Axes>"
      ]
     },
     "metadata": {
      "needs_background": "light"
     },
     "output_type": "display_data"
    }
   ],
   "source": [
    "clasificador5.validacionRoc(estrategiaCruzada5, d5, clasificador5, seed)"
   ]
  },
  {
   "cell_type": "markdown",
   "metadata": {},
   "source": [
    "Lo mismo ocurre para la validación cruzada, todos los puntos se sitúan muy próximos entre sí en la parte superior derecha de la gráfica y por ello la desviación típica entre ellos sale tan pequeña. Las mayor parte de las particiones de la  validación cruzada han sido clasificadas correctamente, pero al igual que ocurre con validación simple, la tasa de aciertos es ligeramente superior a la tasa de fallos, y por tanto, los puntos se acercan bastante a la diagonal."
   ]
  },
  {
   "cell_type": "markdown",
   "metadata": {},
   "source": [
    "#### ROC Validación cruzada German Con LAPLACE"
   ]
  },
  {
   "cell_type": "code",
   "execution_count": 21,
   "metadata": {},
   "outputs": [
    {
     "name": "stdout",
     "output_type": "stream",
     "text": [
      "*Nuestra* Matriz de confusión Particion\n",
      "[[123.  25.]\n",
      " [ 37.  15.]]\n",
      "Matriz confusion *SKLEARN*\n",
      "[[123  25]\n",
      " [ 37  15]]\n",
      "*Nuestra* Matriz de confusión Particion\n",
      "[[126.  20.]\n",
      " [ 33.  21.]]\n",
      "Matriz confusion *SKLEARN*\n",
      "[[126  20]\n",
      " [ 33  21]]\n",
      "*Nuestra* Matriz de confusión Particion\n",
      "[[129.  16.]\n",
      " [ 38.  17.]]\n",
      "Matriz confusion *SKLEARN*\n",
      "[[129  16]\n",
      " [ 38  17]]\n",
      "*Nuestra* Matriz de confusión Particion\n",
      "[[125.  13.]\n",
      " [ 40.  22.]]\n",
      "Matriz confusion *SKLEARN*\n",
      "[[125  13]\n",
      " [ 40  22]]\n",
      "*Nuestra* Matriz de confusión Particion\n",
      "[[112.  11.]\n",
      " [ 59.  18.]]\n",
      "Matriz confusion *SKLEARN*\n",
      "[[112  11]\n",
      " [ 59  18]]\n"
     ]
    },
    {
     "data": {
      "image/png": "[encoded data removed]",
      "text/plain": [
       "<Figure size 432x288 with 1 Axes>"
      ]
     },
     "metadata": {
      "needs_background": "light"
     },
     "output_type": "display_data"
    }
   ],
   "source": [
    "clasificador5_laplace.validacionRoc(estrategiaCruzada5_Laplace, d5, clasificador5_laplace, seed)"
   ]
  },
  {
   "cell_type": "markdown",
   "metadata": {},
   "source": [
    "#### ROC Validación simple tic tac toe"
   ]
  },
  {
   "cell_type": "code",
   "execution_count": 22,
   "metadata": {},
   "outputs": [
    {
     "name": "stdout",
     "output_type": "stream",
     "text": [
      "*Nuestra* Matriz de confusión Particion\n",
      "[[ 62.  68.]\n",
      " [ 21. 232.]]\n",
      "Matriz confusion *SKLEARN*\n",
      "[[ 62  68]\n",
      " [ 21 232]]\n"
     ]
    },
    {
     "data": {
      "image/png": "[encoded data removed]",
      "text/plain": [
       "<Figure size 432x288 with 1 Axes>"
      ]
     },
     "metadata": {
      "needs_background": "light"
     },
     "output_type": "display_data"
    }
   ],
   "source": [
    "clasificador7.validacionRoc(estrategiaSimple7, d7, clasificador7, seed)"
   ]
  },
  {
   "cell_type": "markdown",
   "metadata": {},
   "source": [
    "Con el dataset de tic-tac-toe.data ocurre algo similar. En validación simple realizamos la mayor parte de las clasificaciones correctamente. Al igual que en german.data las tasas de TPR y FPR son muy parecidas, por lo que podemos dar por válido nuestro clasificador."
   ]
  },
  {
   "cell_type": "markdown",
   "metadata": {},
   "source": [
    "#### ROC Validación simple tic tac toe SIN Laplace"
   ]
  },
  {
   "cell_type": "code",
   "execution_count": 23,
   "metadata": {},
   "outputs": [
    {
     "name": "stdout",
     "output_type": "stream",
     "text": [
      "*Nuestra* Matriz de confusión Particion\n",
      "[[ 50.  80.]\n",
      " [ 27. 226.]]\n",
      "Matriz confusion *SKLEARN*\n",
      "[[ 50  80]\n",
      " [ 27 226]]\n"
     ]
    },
    {
     "data": {
      "image/png": "[encoded data removed]",
      "text/plain": [
       "<Figure size 432x288 with 1 Axes>"
      ]
     },
     "metadata": {
      "needs_background": "light"
     },
     "output_type": "display_data"
    }
   ],
   "source": [
    "clasificador7_laplace.validacionRoc(estrategiaSimple7_Laplace, d7, clasificador7_laplace, seed)"
   ]
  },
  {
   "cell_type": "markdown",
   "metadata": {},
   "source": [
    "#### ROC Validación cruzada tic tac toe"
   ]
  },
  {
   "cell_type": "code",
   "execution_count": 24,
   "metadata": {},
   "outputs": [
    {
     "name": "stdout",
     "output_type": "stream",
     "text": [
      "*Nuestra* Matriz de confusión Particion\n",
      "[[ 30.  31.]\n",
      " [ 16. 115.]]\n",
      "Matriz confusion *SKLEARN*\n",
      "[[ 30  31]\n",
      " [ 16 115]]\n",
      "*Nuestra* Matriz de confusión Particion\n",
      "[[ 29.  34.]\n",
      " [ 16. 113.]]\n",
      "Matriz confusion *SKLEARN*\n",
      "[[ 29  34]\n",
      " [ 16 113]]\n",
      "*Nuestra* Matriz de confusión Particion\n",
      "[[ 33.  40.]\n",
      " [ 10. 109.]]\n",
      "Matriz confusion *SKLEARN*\n",
      "[[ 33  40]\n",
      " [ 10 109]]\n",
      "*Nuestra* Matriz de confusión Particion\n",
      "[[ 20.  39.]\n",
      " [ 22. 110.]]\n",
      "Matriz confusion *SKLEARN*\n",
      "[[ 20  39]\n",
      " [ 22 110]]\n",
      "*Nuestra* Matriz de confusión Particion\n",
      "[[26. 50.]\n",
      " [16. 99.]]\n",
      "Matriz confusion *SKLEARN*\n",
      "[[26 50]\n",
      " [16 99]]\n"
     ]
    },
    {
     "data": {
      "image/png": "[encoded data removed]",
      "text/plain": [
       "<Figure size 432x288 with 1 Axes>"
      ]
     },
     "metadata": {
      "needs_background": "light"
     },
     "output_type": "display_data"
    }
   ],
   "source": [
    "clasificador6.validacionRoc(estrategiaCruzada6, d6, clasificador6, seed)"
   ]
  },
  {
   "cell_type": "markdown",
   "metadata": {},
   "source": [
    "Con validación cruzada realizamos varias particiones y los puntos salen en la misma región por encima de la línea, por lo tanto la mayoría de los puntos son clasificados correctamente. Dado que la distancia entre los puntos es muy pequeña, la desviación típica támbien lo es. "
   ]
  },
  {
   "cell_type": "markdown",
   "metadata": {},
   "source": [
    "#### ROC Validación cruzada tic tac toe Con Laplace"
   ]
  },
  {
   "cell_type": "code",
   "execution_count": 25,
   "metadata": {},
   "outputs": [
    {
     "name": "stdout",
     "output_type": "stream",
     "text": [
      "*Nuestra* Matriz de confusión Particion\n",
      "[[ 24.  35.]\n",
      " [ 21. 112.]]\n",
      "Matriz confusion *SKLEARN*\n",
      "[[ 24  35]\n",
      " [ 21 112]]\n",
      "*Nuestra* Matriz de confusión Particion\n",
      "[[ 30.  35.]\n",
      " [ 14. 113.]]\n",
      "Matriz confusion *SKLEARN*\n",
      "[[ 30  35]\n",
      " [ 14 113]]\n",
      "*Nuestra* Matriz de confusión Particion\n",
      "[[35. 38.]\n",
      " [26. 93.]]\n",
      "Matriz confusion *SKLEARN*\n",
      "[[35 38]\n",
      " [26 93]]\n",
      "*Nuestra* Matriz de confusión Particion\n",
      "[[ 25.  46.]\n",
      " [ 14. 106.]]\n",
      "Matriz confusion *SKLEARN*\n",
      "[[ 25  46]\n",
      " [ 14 106]]\n",
      "*Nuestra* Matriz de confusión Particion\n",
      "[[ 30.  34.]\n",
      " [ 15. 112.]]\n",
      "Matriz confusion *SKLEARN*\n",
      "[[ 30  34]\n",
      " [ 15 112]]\n"
     ]
    },
    {
     "data": {
      "image/png": "[encoded data removed]",
      "text/plain": [
       "<Figure size 432x288 with 1 Axes>"
      ]
     },
     "metadata": {
      "needs_background": "light"
     },
     "output_type": "display_data"
    }
   ],
   "source": [
    "clasificador6_laplace.validacionRoc(estrategiaCruzada6_Laplace, d6, clasificador6_laplace, seed)"
   ]
  },
  {
   "cell_type": "markdown",
   "metadata": {},
   "source": [
    "### Conclusiones Curvas ROC"
   ]
  },
  {
   "cell_type": "markdown",
   "metadata": {},
   "source": [
    "Para concluir, podemos observar que partiendo con los datos del dataset, hemos conseguido clasificar considerablemente más de la mitad de los ejemplos correctamente, y por ello los puntos salen siempre por encima de la diagonal, y muchas veces con suficiente holgura en ambas implementaciones.\n",
    "\n",
    "Si tuviésemos más datos en los datasets, las predicciones mejorarían bastante, ya que tendríamos las probabilidades de la mayoría de los atributos dada una clase determinada y por tanto mejoraría la precisión. Por ello es importante reunir la mayor cantidad de datos posibles para lograr una mejor clasificación.\n",
    "\n",
    "Durante la elaboración de estos experimentos, hemos representado las curvas ROC para la implementación con y sin laplace, no representando las gráficas de curvas ROC de SKLearn puesto que lo que queremos confirmar que clasifica bien es nuestra implementación propia, y al mismo tiempo evitar sobrecargar la memoria. "
   ]
  }
 ],
 "metadata": {
  "kernelspec": {
   "display_name": "Python 3",
   "language": "python",
   "name": "python3"
  },
  "language_info": {
   "codemirror_mode": {
    "name": "ipython",
    "version": 3
   },
   "file_extension": ".py",
   "mimetype": "text/x-python",
   "name": "python",
   "nbconvert_exporter": "python",
   "pygments_lexer": "ipython3",
   "version": "3.7.3"
  }
 },
 "nbformat": 4,
 "nbformat_minor": 2
}
