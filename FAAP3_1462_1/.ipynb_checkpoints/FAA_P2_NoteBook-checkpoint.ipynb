{
 "cells": [
  {
   "cell_type": "code",
   "execution_count": 1,
   "metadata": {},
   "outputs": [
    {
     "data": {
      "text/html": [
       "\n",
       "<script>code_show=true; \n",
       "\n",
       "function code_toggle() {\n",
       "    if (code_show){\n",
       "    $('div.input').hide();\n",
       "    } else {\n",
       "    $('div.input').show();\n",
       "    }\n",
       "    code_show = !code_show\n",
       "} \n",
       "\n",
       "$( document ).ready(code_toggle);\n",
       "</script>\n",
       "<form action=\"javascript:code_toggle()\"><input type=\"submit\" value=\"Click here to toggle on/off the raw code.\"></form>\n"
      ],
      "text/plain": [
       "<IPython.core.display.HTML object>"
      ]
     },
     "execution_count": 1,
     "metadata": {},
     "output_type": "execute_result"
    }
   ],
   "source": [
    "from IPython.display import HTML\n",
    "\n",
    "HTML('''\n",
    "<script>code_show=true; \n",
    "\n",
    "function code_toggle() {\n",
    "    if (code_show){\n",
    "    $('div.input').hide();\n",
    "    } else {\n",
    "    $('div.input').show();\n",
    "    }\n",
    "    code_show = !code_show\n",
    "} \n",
    "\n",
    "$( document ).ready(code_toggle);\n",
    "</script>\n",
    "<form action=\"javascript:code_toggle()\"><input type=\"submit\" value=\"Click here to toggle on/off the raw code.\"></form>\n",
    "''')"
   ]
  },
  {
   "cell_type": "markdown",
   "metadata": {},
   "source": [
    "# Memoria FAA P2 \n",
    "### Autores: Sergio Torrijos, Sergio Salcedo y Gloria del Valle\n",
    "\n",
    "#### Consideraciones Previas: \n",
    "En la memoria aparece un botón en la parte superior para poder visualizar u ocultar el código encargado de reproducir cada uno de los ejemplos y gráficas."
   ]
  },
  {
   "cell_type": "code",
   "execution_count": 8,
   "metadata": {},
   "outputs": [],
   "source": [
    "from Datos import Datos\n",
    "import EstrategiaParticionado\n",
    "import Clasificador\n",
    "import numpy as np\n",
    "from sklearn.neighbors import KNeighborsClassifier\n",
    "from sklearn.model_selection import cross_val_score, train_test_split\n",
    "from IPython.display import HTML\n",
    "from plotModel import plotModel\n",
    "import matplotlib.pyplot as plt\n",
    "from sklearn import preprocessing\n",
    "%matplotlib inline\n",
    "seed = np.random.seed()"
   ]
  },
  {
   "cell_type": "markdown",
   "metadata": {},
   "source": [
    "# KNN"
   ]
  },
  {
   "cell_type": "code",
   "execution_count": 9,
   "metadata": {},
   "outputs": [],
   "source": [
    "#K=1, 3, 5, 11, 21 y 51"
   ]
  },
  {
   "cell_type": "code",
   "execution_count": 10,
   "metadata": {},
   "outputs": [],
   "source": [
    "d_ex1 = Datos('wdbc.data')\n",
    "d_ex2 = Datos('online_shoppers.data')\n",
    "d_ex3 = Datos('example1.data')\n",
    "d_ex4 = Datos('example2.data')\n",
    "d_ex5 = Datos('example3.data')\n",
    "d_ex6 = Datos('example4.data')"
   ]
  },
  {
   "cell_type": "markdown",
   "metadata": {},
   "source": [
    "### Pruebas para diferentes k con wdbc.data, weights=distance, validación cruzada y datos normalizados"
   ]
  },
  {
   "cell_type": "code",
   "execution_count": 16,
   "metadata": {},
   "outputs": [
    {
     "name": "stdout",
     "output_type": "stream",
     "text": [
      "Fichero wdbc.data: \n",
      "Media: \n",
      "0.0351653469958081\n",
      "Desviacion tipica: \n",
      "0.020791532161243034\n"
     ]
    }
   ],
   "source": [
    "k=1\n",
    "estrategia = EstrategiaParticionado.ValidacionCruzada(5)\n",
    "c = Clasificador.ClasificadorVecinosProximos(k, normalizar=True, weights='distance')\n",
    "error1 = c.validacion(estrategia, d_ex1, c, seed)\n",
    "print(\"Fichero wdbc.data: \")\n",
    "print(\"Media: \")\n",
    "print(np.mean(error1))\n",
    "print(\"Desviacion tipica: \")\n",
    "print(np.std(error1))"
   ]
  },
  {
   "cell_type": "code",
   "execution_count": 17,
   "metadata": {},
   "outputs": [
    {
     "name": "stdout",
     "output_type": "stream",
     "text": [
      "Fichero wdbc.data: \n",
      "Media: \n",
      "0.024654556745846917\n",
      "Desviacion tipica: \n",
      "0.01716345408773766\n"
     ]
    }
   ],
   "source": [
    "k=3\n",
    "estrategia = EstrategiaParticionado.ValidacionCruzada(5)\n",
    "c = Clasificador.ClasificadorVecinosProximos(k, normalizar=True, weights='distance')\n",
    "error3 = c.validacion(estrategia, d_ex1, c, seed)\n",
    "print(\"Fichero wdbc.data: \")\n",
    "print(\"Media: \")\n",
    "print(np.mean(error3))\n",
    "print(\"Desviacion tipica: \")\n",
    "print(np.std(error3))"
   ]
  },
  {
   "cell_type": "code",
   "execution_count": 18,
   "metadata": {},
   "outputs": [
    {
     "name": "stdout",
     "output_type": "stream",
     "text": [
      "Fichero wdbc.data: \n",
      "Media: \n",
      "0.029871138022046263\n",
      "Desviacion tipica: \n",
      "0.017180144207623847\n"
     ]
    }
   ],
   "source": [
    "k=5\n",
    "estrategia = EstrategiaParticionado.ValidacionCruzada(5)\n",
    "c = Clasificador.ClasificadorVecinosProximos(k, normalizar=True, weights='distance')\n",
    "error5 = c.validacion(estrategia, d_ex1, c, seed)\n",
    "print(\"Fichero wdbc.data: \")\n",
    "print(\"Media: \")\n",
    "print(np.mean(error5))\n",
    "print(\"Desviacion tipica: \")\n",
    "print(np.std(error5))"
   ]
  },
  {
   "cell_type": "code",
   "execution_count": 19,
   "metadata": {},
   "outputs": [
    {
     "name": "stdout",
     "output_type": "stream",
     "text": [
      "Fichero wdbc.data: \n",
      "Media: \n",
      "0.022853594162397142\n",
      "Desviacion tipica: \n",
      "0.011912915521715643\n"
     ]
    }
   ],
   "source": [
    "k=11\n",
    "estrategia = EstrategiaParticionado.ValidacionCruzada(5)\n",
    "c = Clasificador.ClasificadorVecinosProximos(k, normalizar=True, weights='distance')\n",
    "error11 = c.validacion(estrategia, d_ex1, c, seed)\n",
    "print(\"Fichero wdbc.data: \")\n",
    "print(\"Media: \")\n",
    "print(np.mean(error11))\n",
    "print(\"Desviacion tipica: \")\n",
    "print(np.std(error11))"
   ]
  },
  {
   "cell_type": "code",
   "execution_count": 20,
   "metadata": {},
   "outputs": [
    {
     "name": "stdout",
     "output_type": "stream",
     "text": [
      "Fichero wdbc.data: \n",
      "Media: \n",
      "0.04039745381151995\n",
      "Desviacion tipica: \n",
      "0.014207064833668223\n"
     ]
    }
   ],
   "source": [
    "k=21\n",
    "estrategia = EstrategiaParticionado.ValidacionCruzada(5)\n",
    "c = Clasificador.ClasificadorVecinosProximos(k, normalizar=True, weights='distance')\n",
    "error21 = c.validacion(estrategia, d_ex1, c, seed)\n",
    "print(\"Fichero wdbc.data: \")\n",
    "print(\"Media: \")\n",
    "print(np.mean(error21))\n",
    "print(\"Desviacion tipica: \")\n",
    "print(np.std(error21))"
   ]
  },
  {
   "cell_type": "code",
   "execution_count": 21,
   "metadata": {},
   "outputs": [
    {
     "name": "stdout",
     "output_type": "stream",
     "text": [
      "Fichero wdbc.data: \n",
      "Media: \n",
      "0.05454122030740568\n",
      "Desviacion tipica: \n",
      "0.01900852360411814\n"
     ]
    }
   ],
   "source": [
    "k=55\n",
    "estrategia = EstrategiaParticionado.ValidacionCruzada(5)\n",
    "c = Clasificador.ClasificadorVecinosProximos(k, normalizar=True, weights='distance')\n",
    "error55 = c.validacion(estrategia, d_ex1, c, seed)\n",
    "print(\"Fichero wdbc.data: \")\n",
    "print(\"Media: \")\n",
    "print(np.mean(error55))\n",
    "print(\"Desviacion tipica: \")\n",
    "print(np.std(error55))"
   ]
  },
  {
   "cell_type": "code",
   "execution_count": 22,
   "metadata": {},
   "outputs": [
    {
     "name": "stdout",
     "output_type": "stream",
     "text": [
      "Clasificador Vecinos Proximos con Scikit para wdbc.data\n",
      "________________________________________\n"
     ]
    }
   ],
   "source": [
    "X = d_ex1.datos[:,:-1]\n",
    "y = d_ex1.datos[:,-1]\n",
    "scaler = preprocessing.StandardScaler().fit(X)\n",
    "X_scale = scaler.transform(X) \n",
    "vecinos = [1,3,5,11,21,55]\n",
    "\n",
    "print(\"Clasificador Vecinos Proximos con Scikit para wdbc.data\")\n",
    "print(\"________________________________________\")\n"
   ]
  },
  {
   "cell_type": "code",
   "execution_count": 23,
   "metadata": {},
   "outputs": [],
   "source": [
    "truncate = lambda num: round(num, 3)"
   ]
  },
  {
   "cell_type": "code",
   "execution_count": 24,
   "metadata": {},
   "outputs": [],
   "source": [
    "def createTable(a1, a2, b1, b2, c1, c2, d1, d2, e1, e2, f1, f2, a11, a22, b11, b22, c11, c22, d11, d22, e11, e22, f11, f22, title):\n",
    "    salida = \"\"\"<table style=\"width:100%\">\n",
    "    <caption>\"\"\" + title + \"\"\"</caption>\n",
    "  <tr>\n",
    "    <th>K</th>\n",
    "    <th>Nuestro</th>\n",
    "    <th>Scikit</th>\n",
    "  </tr>\n",
    "  <tr>\n",
    "    <td>1</td>   \n",
    "    <td>{}+-{}</td>\n",
    "    <td>{}+-{}</td>\n",
    "  </tr>\n",
    "  <tr>\n",
    "    <td>3</td>    \n",
    "    <td>{}+-{}</td>\n",
    "    <td>{}+-{}</td>\n",
    "  </tr>\n",
    "  <tr>\n",
    "    <td>5</td>    \n",
    "    <td>{}+-{}</td>\n",
    "    <td>{}+-{}</td>\n",
    "  </tr>\n",
    "  <tr>\n",
    "    <td>11</td>    \n",
    "    <td>{}+-{}</td>\n",
    "    <td>{}+-{}</td>\n",
    "  </tr>\n",
    "  <tr>\n",
    "    <td>21</td>    \n",
    "    <td>{}+-{}</td>\n",
    "    <td>{}+-{}</td>\n",
    "  </tr>\n",
    "  <tr>\n",
    "    <td>55</td>    \n",
    "    <td>{}+-{}</td>\n",
    "    <td>{}+-{}</td>\n",
    "  </tr>\n",
    "</table>\"\"\".format(truncate(a1), truncate(a2), truncate(b1), truncate(b2), truncate(c1), truncate(c2), truncate(d1), truncate(d2), truncate(e1), truncate(e2), truncate(f1), truncate(f2),truncate(a11), truncate(a22), truncate(b11), truncate(b22), truncate(c11), truncate(c22), truncate(d11), truncate(d22), truncate(e11), truncate(e22), truncate(f11), truncate(f22), title)\n",
    "    \n",
    "    display(HTML(salida))"
   ]
  },
  {
   "cell_type": "code",
   "execution_count": 25,
   "metadata": {},
   "outputs": [],
   "source": [
    "def trainAndPlotKNN(errors, stds, neighbours, title, X, y, weights_param='distance'):\n",
    "    \n",
    "    errors_sk = []\n",
    "    stds_sk = []\n",
    "    html_output = \"\"\"<table style=\"width:100%\">\n",
    "    <caption>\"\"\" + title + \"\"\"</caption>\n",
    "     <tr>\n",
    "    <th>K</th>\n",
    "    <th>Nuestro</th>\n",
    "    <th>Scikit</th>\n",
    "  </tr>\n",
    "    \"\"\"\n",
    "    \n",
    "    \n",
    "    for index, neighbour in enumerate(neighbours):\n",
    "        clasificador = KNeighborsClassifier(n_neighbors=neighbour, weights=weights_param)\n",
    "        X_train, X_test, y_train, y_test = train_test_split(X, y, test_size=0.4, random_state=seed, stratify=y)\n",
    "        clasificador.fit(X_train, y_train)\n",
    "        err = 1 - clasificador.score(X_test, y_test)\n",
    "        errors_sk.append(err)\n",
    "        stds_sk.append(np.std(err))\n",
    "        \n",
    "        html_output += \"<tr><td>{}</td><td>{}+-{}</td><td>{}+-{}</td></tr>\".format(neighbour, truncate(np.mean(errors[index])), truncate(stds[index]), truncate(errors_sk[index]), truncate(stds_sk[index]))\n",
    "        \n",
    "    html_output += \"</table>\"\n",
    "    \n",
    "    \n",
    "    display(HTML(html_output))\n",
    "     \n",
    "    errors = stds = []    \n",
    "    \n",
    "    "
   ]
  },
  {
   "cell_type": "code",
   "execution_count": 31,
   "metadata": {},
   "outputs": [],
   "source": [
    "def plotKNN(errors, title, weights_param='distance'):\n",
    "    errors_sk = []\n",
    "    stds_sk = []\n",
    "    html_output = \"\"\"<table style=\"width:100%\">\n",
    "    <caption>\"\"\" + title + \"\"\"</caption>\n",
    "     <tr>\n",
    "    <th>K</th>\n",
    "    <th>Nuestro</th>\n",
    "  </tr>\n",
    "    \"\"\"\n",
    "    for error, neighbour in errors:\n",
    "        html_output += \"<tr><td>{}</td><td>{}+-{}</td></tr>\".format(neighbour, truncate(np.mean(error)), truncate(np.std(error)))\n",
    "    html_output += \"</table>\"\n",
    "    display(HTML(html_output))"
   ]
  },
  {
   "cell_type": "code",
   "execution_count": 26,
   "metadata": {},
   "outputs": [],
   "source": [
    "def trainAndPlotKNNCross(errors, stds, neighbours, X, y, weights_param='distance', dataset_name='wdbc.data'):\n",
    "    \n",
    "    errors_sk = []\n",
    "    stds_sk = []\n",
    "    \n",
    "    title_str = \"Error y desviacion tipica con KNN(Validacion Cruzada) para \" + dataset_name + \"(weights = {})\".format('distance' if weights_param == 'distance' else 'uniform')\n",
    "    \n",
    "    html_output = \"\"\"<table style=\"width:100%\">\n",
    "    <caption>\"\"\" + title_str + \"\"\"</caption>\n",
    "     <tr>\n",
    "    <th>K</th>\n",
    "    <th>Nuestro</th>\n",
    "    <th>Scikit</th>\n",
    "  </tr>\n",
    "    \"\"\"\n",
    "    \n",
    "    \n",
    "    for index, neighbour in enumerate(neighbours):\n",
    "        clasificador = KNeighborsClassifier(n_neighbors=neighbour, weights=weights_param)\n",
    "        err = 1 - cross_val_score(clasificador, X, y, cv=5)\n",
    "        errors_sk.append(err)\n",
    "        stds_sk.append(np.std(err))\n",
    "        \n",
    "        html_output += \"<tr><td>{}</td><td>{}+-{}</td><td>{}+-{}</td></tr>\".format(neighbour, truncate(np.mean(errors[index])), truncate(stds[index]), truncate(np.mean(err)), truncate(np.std(err)))\n",
    "        \n",
    "    html_output += \"</table>\"\n",
    "    \n",
    "    \n",
    "    display(HTML(html_output))\n",
    "     \n",
    "    errors = stds = []    "
   ]
  },
  {
   "cell_type": "code",
   "execution_count": 27,
   "metadata": {},
   "outputs": [
    {
     "data": {
      "text/html": [
       "<table style=\"width:100%\">\n",
       "    <caption>Error y desviacion tipica con KNN(Validacion Cruzada) para wdbc.data(weights = distance)</caption>\n",
       "     <tr>\n",
       "    <th>K</th>\n",
       "    <th>Nuestro</th>\n",
       "    <th>Scikit</th>\n",
       "  </tr>\n",
       "    <tr><td>1</td><td>0.035+-0.021</td><td>0.049+-0.016</td></tr><tr><td>3</td><td>0.025+-0.017</td><td>0.042+-0.019</td></tr><tr><td>5</td><td>0.03+-0.017</td><td>0.035+-0.01</td></tr><tr><td>11</td><td>0.023+-0.012</td><td>0.039+-0.018</td></tr><tr><td>21</td><td>0.04+-0.014</td><td>0.046+-0.014</td></tr><tr><td>55</td><td>0.055+-0.019</td><td>0.046+-0.015</td></tr></table>"
      ],
      "text/plain": [
       "<IPython.core.display.HTML object>"
      ]
     },
     "metadata": {},
     "output_type": "display_data"
    }
   ],
   "source": [
    "stds = [np.std(error1), np.std(error3), np.std(error5), np.std(error11), np.std(error21), np.std(error55)]\n",
    "trainAndPlotKNNCross([error1, error3, error5, error11, error21, error55], stds, [1, 3, 5, 11, 21, 55], X_scale, y)"
   ]
  },
  {
   "cell_type": "code",
   "execution_count": null,
   "metadata": {},
   "outputs": [],
   "source": []
  },
  {
   "cell_type": "markdown",
   "metadata": {},
   "source": [
    "### Pruebas para diferentes k con online_shoppers.data, weights=distance, validación simple y datos normalizados"
   ]
  },
  {
   "cell_type": "code",
   "execution_count": 15,
   "metadata": {},
   "outputs": [
    {
     "ename": "KeyboardInterrupt",
     "evalue": "",
     "output_type": "error",
     "traceback": [
      "\u001b[0;31m---------------------------------------------------------------------------\u001b[0m",
      "\u001b[0;31mKeyboardInterrupt\u001b[0m                         Traceback (most recent call last)",
      "\u001b[0;32m<ipython-input-15-a568c6bf8c08>\u001b[0m in \u001b[0;36m<module>\u001b[0;34m\u001b[0m\n\u001b[1;32m      2\u001b[0m \u001b[0mestrategia\u001b[0m \u001b[0;34m=\u001b[0m \u001b[0mEstrategiaParticionado\u001b[0m\u001b[0;34m.\u001b[0m\u001b[0mValidacionSimple\u001b[0m\u001b[0;34m(\u001b[0m\u001b[0;34m)\u001b[0m\u001b[0;34m\u001b[0m\u001b[0;34m\u001b[0m\u001b[0m\n\u001b[1;32m      3\u001b[0m \u001b[0mc\u001b[0m \u001b[0;34m=\u001b[0m \u001b[0mClasificador\u001b[0m\u001b[0;34m.\u001b[0m\u001b[0mClasificadorVecinosProximos\u001b[0m\u001b[0;34m(\u001b[0m\u001b[0mk\u001b[0m\u001b[0;34m,\u001b[0m \u001b[0mnormalizar\u001b[0m\u001b[0;34m=\u001b[0m\u001b[0;32mTrue\u001b[0m\u001b[0;34m,\u001b[0m \u001b[0mweights\u001b[0m\u001b[0;34m=\u001b[0m\u001b[0;34m'distance'\u001b[0m\u001b[0;34m)\u001b[0m\u001b[0;34m\u001b[0m\u001b[0;34m\u001b[0m\u001b[0m\n\u001b[0;32m----> 4\u001b[0;31m \u001b[0merror1\u001b[0m \u001b[0;34m=\u001b[0m \u001b[0mc\u001b[0m\u001b[0;34m.\u001b[0m\u001b[0mvalidacion\u001b[0m\u001b[0;34m(\u001b[0m\u001b[0mestrategia\u001b[0m\u001b[0;34m,\u001b[0m \u001b[0md_ex2\u001b[0m\u001b[0;34m,\u001b[0m \u001b[0mc\u001b[0m\u001b[0;34m,\u001b[0m \u001b[0mseed\u001b[0m\u001b[0;34m)\u001b[0m\u001b[0;34m\u001b[0m\u001b[0;34m\u001b[0m\u001b[0m\n\u001b[0m\u001b[1;32m      5\u001b[0m \u001b[0mprint\u001b[0m\u001b[0;34m(\u001b[0m\u001b[0;34m\"Fichero online_shoppers.data: \"\u001b[0m\u001b[0;34m)\u001b[0m\u001b[0;34m\u001b[0m\u001b[0;34m\u001b[0m\u001b[0m\n\u001b[1;32m      6\u001b[0m \u001b[0mprint\u001b[0m\u001b[0;34m(\u001b[0m\u001b[0;34m\"Media: \"\u001b[0m\u001b[0;34m)\u001b[0m\u001b[0;34m\u001b[0m\u001b[0;34m\u001b[0m\u001b[0m\n",
      "\u001b[0;32m~/para_tirar/FAA/P2.1/Clasificador.py\u001b[0m in \u001b[0;36mvalidacion\u001b[0;34m(self, particionado, dataset, clasificador, seed, oneHot)\u001b[0m\n\u001b[1;32m     74\u001b[0m       \u001b[0mparticion\u001b[0m \u001b[0;34m=\u001b[0m \u001b[0mparticionado\u001b[0m\u001b[0;34m.\u001b[0m\u001b[0mparticiones\u001b[0m\u001b[0;34m[\u001b[0m\u001b[0;36m0\u001b[0m\u001b[0;34m]\u001b[0m\u001b[0;34m\u001b[0m\u001b[0;34m\u001b[0m\u001b[0m\n\u001b[1;32m     75\u001b[0m       \u001b[0mclasificador\u001b[0m\u001b[0;34m.\u001b[0m\u001b[0mentrenamiento\u001b[0m\u001b[0;34m(\u001b[0m\u001b[0mdataset\u001b[0m\u001b[0;34m.\u001b[0m\u001b[0mextraeDatos\u001b[0m\u001b[0;34m(\u001b[0m\u001b[0mparticion\u001b[0m\u001b[0;34m.\u001b[0m\u001b[0mindicesTrain\u001b[0m\u001b[0;34m)\u001b[0m\u001b[0;34m,\u001b[0m \u001b[0mdataset\u001b[0m\u001b[0;34m.\u001b[0m\u001b[0mnominalAtributos\u001b[0m\u001b[0;34m,\u001b[0m \u001b[0mdataset\u001b[0m\u001b[0;34m.\u001b[0m\u001b[0mdiccionarios\u001b[0m\u001b[0;34m)\u001b[0m\u001b[0;34m\u001b[0m\u001b[0;34m\u001b[0m\u001b[0m\n\u001b[0;32m---> 76\u001b[0;31m       \u001b[0mclasificacion\u001b[0m \u001b[0;34m=\u001b[0m \u001b[0mclasificador\u001b[0m\u001b[0;34m.\u001b[0m\u001b[0mclasifica\u001b[0m\u001b[0;34m(\u001b[0m\u001b[0mdataset\u001b[0m\u001b[0;34m.\u001b[0m\u001b[0mextraeDatos\u001b[0m\u001b[0;34m(\u001b[0m\u001b[0mparticion\u001b[0m\u001b[0;34m.\u001b[0m\u001b[0mindicesTest\u001b[0m\u001b[0;34m)\u001b[0m\u001b[0;34m,\u001b[0m \u001b[0mdataset\u001b[0m\u001b[0;34m.\u001b[0m\u001b[0mnominalAtributos\u001b[0m\u001b[0;34m,\u001b[0m \u001b[0mdataset\u001b[0m\u001b[0;34m.\u001b[0m\u001b[0mdiccionarios\u001b[0m\u001b[0;34m)\u001b[0m\u001b[0;34m\u001b[0m\u001b[0;34m\u001b[0m\u001b[0m\n\u001b[0m\u001b[1;32m     77\u001b[0m       \u001b[0;32mreturn\u001b[0m \u001b[0mself\u001b[0m\u001b[0;34m.\u001b[0m\u001b[0merror\u001b[0m\u001b[0;34m(\u001b[0m\u001b[0mdataset\u001b[0m\u001b[0;34m.\u001b[0m\u001b[0mextraeDatos\u001b[0m\u001b[0;34m(\u001b[0m\u001b[0mparticion\u001b[0m\u001b[0;34m.\u001b[0m\u001b[0mindicesTest\u001b[0m\u001b[0;34m)\u001b[0m\u001b[0;34m,\u001b[0m \u001b[0mclasificacion\u001b[0m\u001b[0;34m)\u001b[0m\u001b[0;34m\u001b[0m\u001b[0;34m\u001b[0m\u001b[0m\n\u001b[1;32m     78\u001b[0m     \u001b[0;31m#Estamos en la validación cruzada\u001b[0m\u001b[0;34m\u001b[0m\u001b[0;34m\u001b[0m\u001b[0;34m\u001b[0m\u001b[0m\n",
      "\u001b[0;32m~/para_tirar/FAA/P2.1/Clasificador.py\u001b[0m in \u001b[0;36mclasifica\u001b[0;34m(self, datostest, atributosDiscretos, diccionario)\u001b[0m\n\u001b[1;32m    365\u001b[0m                     \u001b[0;31m#    break\u001b[0m\u001b[0;34m\u001b[0m\u001b[0;34m\u001b[0m\u001b[0;34m\u001b[0m\u001b[0m\n\u001b[1;32m    366\u001b[0m                     \u001b[0;31m#else:\u001b[0m\u001b[0;34m\u001b[0m\u001b[0;34m\u001b[0m\u001b[0;34m\u001b[0m\u001b[0m\n\u001b[0;32m--> 367\u001b[0;31m                     \u001b[0md\u001b[0m\u001b[0;34m.\u001b[0m\u001b[0mappend\u001b[0m\u001b[0;34m(\u001b[0m\u001b[0mself\u001b[0m\u001b[0;34m.\u001b[0m\u001b[0mdistancia_knn\u001b[0m\u001b[0;34m(\u001b[0m\u001b[0mself\u001b[0m\u001b[0;34m.\u001b[0m\u001b[0mdistanciaEuclidea\u001b[0m\u001b[0;34m(\u001b[0m\u001b[0md_aux\u001b[0m\u001b[0;34m)\u001b[0m\u001b[0;34m)\u001b[0m\u001b[0;34m)\u001b[0m\u001b[0;34m\u001b[0m\u001b[0;34m\u001b[0m\u001b[0m\n\u001b[0m\u001b[1;32m    368\u001b[0m                 \u001b[0;31m# EN D TENGO TODAS LAS DISTANCIAS DE DATOSTRAIN CONTRA ESE ELEMENTO DE TEST\u001b[0m\u001b[0;34m\u001b[0m\u001b[0;34m\u001b[0m\u001b[0;34m\u001b[0m\u001b[0m\n\u001b[1;32m    369\u001b[0m             \u001b[0;32mif\u001b[0m \u001b[0;34m(\u001b[0m\u001b[0mself\u001b[0m\u001b[0;34m.\u001b[0m\u001b[0mweights\u001b[0m \u001b[0;34m==\u001b[0m \u001b[0;34m'uniform'\u001b[0m\u001b[0;34m)\u001b[0m\u001b[0;34m:\u001b[0m\u001b[0;34m\u001b[0m\u001b[0;34m\u001b[0m\u001b[0m\n",
      "\u001b[0;32m~/para_tirar/FAA/P2.1/Clasificador.py\u001b[0m in \u001b[0;36mdistanciaEuclidea\u001b[0;34m(self, arrayDist)\u001b[0m\n\u001b[1;32m    323\u001b[0m         \u001b[0md\u001b[0m \u001b[0;34m=\u001b[0m \u001b[0;36m0\u001b[0m\u001b[0;34m\u001b[0m\u001b[0;34m\u001b[0m\u001b[0m\n\u001b[1;32m    324\u001b[0m         \u001b[0;32mfor\u001b[0m \u001b[0melem\u001b[0m \u001b[0;32min\u001b[0m \u001b[0marrayDist\u001b[0m\u001b[0;34m:\u001b[0m\u001b[0;34m\u001b[0m\u001b[0;34m\u001b[0m\u001b[0m\n\u001b[0;32m--> 325\u001b[0;31m             \u001b[0md\u001b[0m \u001b[0;34m+=\u001b[0m \u001b[0mmath\u001b[0m\u001b[0;34m.\u001b[0m\u001b[0mpow\u001b[0m\u001b[0;34m(\u001b[0m\u001b[0melem\u001b[0m\u001b[0;34m,\u001b[0m \u001b[0;36m2\u001b[0m\u001b[0;34m)\u001b[0m\u001b[0;34m\u001b[0m\u001b[0;34m\u001b[0m\u001b[0m\n\u001b[0m\u001b[1;32m    326\u001b[0m         \u001b[0;32mreturn\u001b[0m \u001b[0md\u001b[0m\u001b[0;34m**\u001b[0m\u001b[0;36m0.5\u001b[0m\u001b[0;34m\u001b[0m\u001b[0;34m\u001b[0m\u001b[0m\n\u001b[1;32m    327\u001b[0m \u001b[0;34m\u001b[0m\u001b[0m\n",
      "\u001b[0;31mKeyboardInterrupt\u001b[0m: "
     ]
    }
   ],
   "source": [
    "k=1\n",
    "estrategia = EstrategiaParticionado.ValidacionSimple()\n",
    "c = Clasificador.ClasificadorVecinosProximos(k, normalizar=True, weights='distance')\n",
    "error1 = c.validacion(estrategia, d_ex2, c, seed)\n",
    "print(\"Fichero online_shoppers.data: \")\n",
    "print(\"Media: \")\n",
    "print(np.mean(error1))\n",
    "print(\"Desviacion tipica: \")\n",
    "print(np.std(error1))"
   ]
  },
  {
   "cell_type": "code",
   "execution_count": null,
   "metadata": {},
   "outputs": [],
   "source": [
    "k=3\n",
    "estrategia = EstrategiaParticionado.ValidacionSimple()\n",
    "c = Clasificador.ClasificadorVecinosProximos(k, normalizar=True, weights='distance')\n",
    "error3 = c.validacion(estrategia, d_ex2, c, seed)\n",
    "print(\"Fichero online_shoppers.data: \")\n",
    "print(\"Media: \")\n",
    "print(np.mean(error3))\n",
    "print(\"Desviacion tipica: \")\n",
    "print(np.std(error3))"
   ]
  },
  {
   "cell_type": "code",
   "execution_count": null,
   "metadata": {},
   "outputs": [],
   "source": [
    "k=5\n",
    "estrategia = EstrategiaParticionado.ValidacionSimple()\n",
    "c = Clasificador.ClasificadorVecinosProximos(k, normalizar=True, weights='distance')\n",
    "error5 = c.validacion(estrategia, d_ex2, c, seed)\n",
    "print(\"Fichero online_shoppers.data: \")\n",
    "print(\"Media: \")\n",
    "print(np.mean(error5))\n",
    "print(\"Desviacion tipica: \")\n",
    "print(np.std(error5))"
   ]
  },
  {
   "cell_type": "code",
   "execution_count": null,
   "metadata": {},
   "outputs": [],
   "source": [
    "k=11\n",
    "estrategia = EstrategiaParticionado.ValidacionSimple()\n",
    "c = Clasificador.ClasificadorVecinosProximos(k, normalizar=True, weights='distance')\n",
    "error11 = c.validacion(estrategia, d_ex2, c, seed)\n",
    "print(\"Fichero online_shoppers.data: \")\n",
    "print(\"Media: \")\n",
    "print(np.mean(error11))\n",
    "print(\"Desviacion tipica: \")\n",
    "print(np.std(error11))"
   ]
  },
  {
   "cell_type": "code",
   "execution_count": null,
   "metadata": {},
   "outputs": [],
   "source": [
    "k=21\n",
    "estrategia = EstrategiaParticionado.ValidacionSimple()\n",
    "c = Clasificador.ClasificadorVecinosProximos(k, normalizar=True, weights='distance')\n",
    "error21 = c.validacion(estrategia, d_ex2, c, seed)\n",
    "print(\"Fichero online_shoppers.data: \")\n",
    "print(\"Media: \")\n",
    "print(np.mean(error21))\n",
    "print(\"Desviacion tipica: \")\n",
    "print(np.std(error21))"
   ]
  },
  {
   "cell_type": "code",
   "execution_count": null,
   "metadata": {},
   "outputs": [],
   "source": [
    "k=55\n",
    "estrategia = EstrategiaParticionado.ValidacionSimple()\n",
    "c = Clasificador.ClasificadorVecinosProximos(k, normalizar=True, weights='distance')\n",
    "error55 = c.validacion(estrategia, d_ex2, c, seed)\n",
    "print(\"Fichero online_shoppers.data: \")\n",
    "print(\"Media: \")\n",
    "print(np.mean(error55))\n",
    "print(\"Desviacion tipica: \")\n",
    "print(np.std(error55))"
   ]
  },
  {
   "cell_type": "code",
   "execution_count": null,
   "metadata": {},
   "outputs": [],
   "source": [
    "X = d_ex2.datos[:,:-1]\n",
    "y = d_ex2.datos[:,-1]\n",
    "scaler = preprocessing.StandardScaler().fit(X)\n",
    "X_scale = scaler.transform(X)\n",
    "\n",
    "vecinos = [1,3,5,11,21,55]\n",
    "\n",
    "print(\"Clasificador Vecinos Proximos con Scikit para online_shoppers.data\")\n",
    "print(\"________________________________________\")"
   ]
  },
  {
   "cell_type": "code",
   "execution_count": null,
   "metadata": {},
   "outputs": [],
   "source": []
  },
  {
   "cell_type": "code",
   "execution_count": null,
   "metadata": {},
   "outputs": [],
   "source": [
    "stds = [np.std(error1), np.std(error3), np.std(error5), np.std(error11), np.std(error21), np.std(error55)]\n",
    "trainAndPlotKNN([error1, error3, error5, error11, error21, error55], stds, [1, 3, 5, 11, 21, 55], \"Error y desviacion tipica con KNN(Validacion Simple) para online_shoppers.data (weights=distance)\", X_scale, y)"
   ]
  },
  {
   "cell_type": "markdown",
   "metadata": {},
   "source": [
    "### Pruebas para diferentes k con wdbc.data, weights=uniform, validación cruzada y datos normalizados"
   ]
  },
  {
   "cell_type": "code",
   "execution_count": null,
   "metadata": {},
   "outputs": [],
   "source": [
    "k=1\n",
    "estrategia = EstrategiaParticionado.ValidacionCruzada(5)\n",
    "c = Clasificador.ClasificadorVecinosProximos(k, normalizar=True, weights='uniform')\n",
    "error1 = c.validacion(estrategia, d_ex1, c, seed)\n",
    "print(\"Fichero wdbc.data: \")\n",
    "print(\"Media: \")\n",
    "print(np.mean(error1))\n",
    "print(\"Desviacion tipica: \")\n",
    "print(np.std(error1))"
   ]
  },
  {
   "cell_type": "code",
   "execution_count": null,
   "metadata": {},
   "outputs": [],
   "source": [
    "k=3\n",
    "estrategia = EstrategiaParticionado.ValidacionCruzada(5)\n",
    "c = Clasificador.ClasificadorVecinosProximos(k, normalizar=True, weights='uniform')\n",
    "error3 = c.validacion(estrategia, d_ex1, c, seed)\n",
    "print(\"Fichero wdbc.data: \")\n",
    "print(\"Media: \")\n",
    "print(np.mean(error3))\n",
    "print(\"Desviacion tipica: \")\n",
    "print(np.std(error3))"
   ]
  },
  {
   "cell_type": "code",
   "execution_count": null,
   "metadata": {},
   "outputs": [],
   "source": [
    "k=5\n",
    "estrategia = EstrategiaParticionado.ValidacionCruzada(5)\n",
    "c = Clasificador.ClasificadorVecinosProximos(k, normalizar=True, weights='uniform')\n",
    "error5 = c.validacion(estrategia, d_ex1, c, seed)\n",
    "print(\"Fichero wdbc.data: \")\n",
    "print(\"Media: \")\n",
    "print(np.mean(error5))\n",
    "print(\"Desviacion tipica: \")\n",
    "print(np.std(error5))"
   ]
  },
  {
   "cell_type": "code",
   "execution_count": null,
   "metadata": {},
   "outputs": [],
   "source": [
    "k=11\n",
    "estrategia = EstrategiaParticionado.ValidacionCruzada(5)\n",
    "c = Clasificador.ClasificadorVecinosProximos(k, normalizar=True, weights='uniform')\n",
    "error11 = c.validacion(estrategia, d_ex1, c, seed)\n",
    "print(\"Fichero wdbc.data: \")\n",
    "print(\"Media: \")\n",
    "print(np.mean(error11))\n",
    "print(\"Desviacion tipica: \")\n",
    "print(np.std(error11))"
   ]
  },
  {
   "cell_type": "code",
   "execution_count": null,
   "metadata": {},
   "outputs": [],
   "source": [
    "k=21\n",
    "estrategia = EstrategiaParticionado.ValidacionCruzada(5)\n",
    "c = Clasificador.ClasificadorVecinosProximos(k, normalizar=True, weights='uniform')\n",
    "error21 = c.validacion(estrategia, d_ex1, c, seed)\n",
    "print(\"Fichero wdbc.data: \")\n",
    "print(\"Media: \")\n",
    "print(np.mean(error21))\n",
    "print(\"Desviacion tipica: \")\n",
    "print(np.std(error21))"
   ]
  },
  {
   "cell_type": "code",
   "execution_count": null,
   "metadata": {},
   "outputs": [],
   "source": [
    "k=55\n",
    "estrategia = EstrategiaParticionado.ValidacionCruzada(5)\n",
    "c = Clasificador.ClasificadorVecinosProximos(k, normalizar=True, weights='uniform')\n",
    "error55 = c.validacion(estrategia, d_ex1, c, seed)\n",
    "print(\"Fichero wdbc.data: \")\n",
    "print(\"Media: \")\n",
    "print(np.mean(error55))\n",
    "print(\"Desviacion tipica: \")\n",
    "print(np.std(error55))"
   ]
  },
  {
   "cell_type": "code",
   "execution_count": null,
   "metadata": {},
   "outputs": [],
   "source": [
    "X = d_ex1.datos[:,:-1]\n",
    "y = d_ex1.datos[:,-1]\n",
    "vecinos = [1,3,5,11,21,55]\n",
    "scaler = preprocessing.StandardScaler().fit(X)\n",
    "X_scale = scaler.transform(X)\n",
    "\n",
    "print(\"Clasificador Vecinos Proximos con Scikit para wdbc.data\")\n",
    "print(\"________________________________________\")\n"
   ]
  },
  {
   "cell_type": "code",
   "execution_count": null,
   "metadata": {},
   "outputs": [],
   "source": [
    "stds = [np.std(error1), np.std(error3), np.std(error5), np.std(error11), np.std(error21), np.std(error55)]\n",
    "trainAndPlotKNNCross([error1, error3, error5, error11, error21, error55], stds, [1, 3, 5, 11, 21, 55], X_scale, y, weights_param='uniform')"
   ]
  },
  {
   "cell_type": "code",
   "execution_count": null,
   "metadata": {},
   "outputs": [],
   "source": []
  },
  {
   "cell_type": "markdown",
   "metadata": {},
   "source": [
    "### Pruebas para diferentes k con online_shoppers.data, weights=uniform, validación simple y datos normalizados"
   ]
  },
  {
   "cell_type": "code",
   "execution_count": null,
   "metadata": {},
   "outputs": [],
   "source": [
    "k=1\n",
    "estrategia = EstrategiaParticionado.ValidacionSimple()\n",
    "c = Clasificador.ClasificadorVecinosProximos(k, weights='uniform', normalizar=True)\n",
    "error1 = c.validacion(estrategia, d_ex2, c, seed)\n",
    "print(\"Fichero online_shoppers.data: \")\n",
    "print(\"Media: \")\n",
    "print(np.mean(error1))\n",
    "print(\"Desviacion tipica: \")\n",
    "print(np.std(error1))"
   ]
  },
  {
   "cell_type": "code",
   "execution_count": null,
   "metadata": {},
   "outputs": [],
   "source": [
    "k=3\n",
    "estrategia = EstrategiaParticionado.ValidacionSimple()\n",
    "c = Clasificador.ClasificadorVecinosProximos(k, weights='uniform', normalizar=True)\n",
    "error3 = c.validacion(estrategia, d_ex2, c, seed)\n",
    "print(\"Fichero online_shoppers.data: \")\n",
    "print(\"Media: \")\n",
    "print(np.mean(error3))\n",
    "print(\"Desviacion tipica: \")\n",
    "print(np.std(error3))"
   ]
  },
  {
   "cell_type": "code",
   "execution_count": null,
   "metadata": {},
   "outputs": [],
   "source": [
    "k=5\n",
    "estrategia = EstrategiaParticionado.ValidacionSimple()\n",
    "c = Clasificador.ClasificadorVecinosProximos(k, weights='uniform', normalizar=True)\n",
    "error5 = c.validacion(estrategia, d_ex2, c, seed)\n",
    "print(\"Fichero online_shoppers.data: \")\n",
    "print(\"Media: \")\n",
    "print(np.mean(error5))\n",
    "print(\"Desviacion tipica: \")\n",
    "print(np.std(error5))"
   ]
  },
  {
   "cell_type": "code",
   "execution_count": null,
   "metadata": {},
   "outputs": [],
   "source": [
    "k=11\n",
    "estrategia = EstrategiaParticionado.ValidacionSimple()\n",
    "c = Clasificador.ClasificadorVecinosProximos(k, weights='uniform', normalizar=True)\n",
    "error11 = c.validacion(estrategia, d_ex2, c, seed)\n",
    "print(\"Fichero online_shoppers.data: \")\n",
    "print(\"Media: \")\n",
    "print(np.mean(error11))\n",
    "print(\"Desviacion tipica: \")\n",
    "print(np.std(error11))"
   ]
  },
  {
   "cell_type": "code",
   "execution_count": null,
   "metadata": {},
   "outputs": [],
   "source": [
    "k=21\n",
    "estrategia = EstrategiaParticionado.ValidacionSimple()\n",
    "c = Clasificador.ClasificadorVecinosProximos(k, weights='uniform', normalizar=True)\n",
    "error21 = c.validacion(estrategia, d_ex2, c, seed)\n",
    "print(\"Fichero online_shoppers.data: \")\n",
    "print(\"Media: \")\n",
    "print(np.mean(error21))\n",
    "print(\"Desviacion tipica: \")\n",
    "print(np.std(error21))"
   ]
  },
  {
   "cell_type": "code",
   "execution_count": null,
   "metadata": {},
   "outputs": [],
   "source": [
    "k=55\n",
    "estrategia = EstrategiaParticionado.ValidacionSimple()\n",
    "c = Clasificador.ClasificadorVecinosProximos(k, weights='uniform', normalizar=True)\n",
    "error55 = c.validacion(estrategia, d_ex2, c, seed)\n",
    "print(\"Fichero online_shoppers.data: \")\n",
    "print(\"Media: \")\n",
    "print(np.mean(error55))\n",
    "print(\"Desviacion tipica: \")\n",
    "print(np.std(error55))"
   ]
  },
  {
   "cell_type": "code",
   "execution_count": null,
   "metadata": {},
   "outputs": [],
   "source": [
    "X = d_ex2.datos[:,:-1]\n",
    "y = d_ex2.datos[:,-1]\n",
    "vecinos = [1,3,5,11,21,55]\n",
    "scaler = preprocessing.StandardScaler().fit(X)\n",
    "X_scale = scaler.transform(X)\n",
    "\n",
    "print(\"Clasificador Vecinos Proximos con Scikit para online_shoppers.data\")\n",
    "print(\"________________________________________\")\n"
   ]
  },
  {
   "cell_type": "code",
   "execution_count": null,
   "metadata": {},
   "outputs": [],
   "source": []
  },
  {
   "cell_type": "code",
   "execution_count": null,
   "metadata": {},
   "outputs": [],
   "source": [
    "stds = [np.std(error1), np.std(error3), np.std(error5), np.std(error11), np.std(error21), np.std(error55)]\n",
    "trainAndPlotKNN([error1, error3, error5, error11, error21, error55], stds, [1, 3, 5, 11, 21, 55], \"Error y desviacion tipica con KNN(Validacion Simple) para wdbc.data (weights=uniform)\", X_scale, y, weights_param='uniform')"
   ]
  },
  {
   "cell_type": "markdown",
   "metadata": {},
   "source": [
    "### Pruebas para diferentes k con online_shoppers.data, weights=distance, validación simple y datos no normalizados"
   ]
  },
  {
   "cell_type": "code",
   "execution_count": null,
   "metadata": {},
   "outputs": [],
   "source": [
    "k=1\n",
    "estrategia = EstrategiaParticionado.ValidacionSimple()\n",
    "c = Clasificador.ClasificadorVecinosProximos(k, weights='distance', normalizar=False)\n",
    "error1 = c.validacion(estrategia, d_ex2, c, seed)\n",
    "print(\"Fichero online_shoppers.data: \")\n",
    "print(\"Media: \")\n",
    "print(np.mean(error1))\n",
    "print(\"Desviacion tipica: \")\n",
    "print(np.std(error1))"
   ]
  },
  {
   "cell_type": "code",
   "execution_count": null,
   "metadata": {},
   "outputs": [],
   "source": [
    "k=3\n",
    "estrategia = EstrategiaParticionado.ValidacionSimple()\n",
    "c = Clasificador.ClasificadorVecinosProximos(k, weights='distance', normalizar=False)\n",
    "error3 = c.validacion(estrategia, d_ex2, c, seed)\n",
    "print(\"Fichero online_shoppers.data: \")\n",
    "print(\"Media: \")\n",
    "print(np.mean(error33))\n",
    "print(\"Desviacion tipica: \")\n",
    "print(np.std(error33))"
   ]
  },
  {
   "cell_type": "code",
   "execution_count": null,
   "metadata": {},
   "outputs": [],
   "source": [
    "k=5\n",
    "estrategia = EstrategiaParticionado.ValidacionSimple()\n",
    "c = Clasificador.ClasificadorVecinosProximos(k, weights='distance', normalizar=False)\n",
    "error5 = c.validacion(estrategia, d_ex2, c, seed)\n",
    "print(\"Fichero online_shoppers.data: \")\n",
    "print(\"Media: \")\n",
    "print(np.mean(error5))\n",
    "print(\"Desviacion tipica: \")\n",
    "print(np.std(error5))"
   ]
  },
  {
   "cell_type": "code",
   "execution_count": null,
   "metadata": {},
   "outputs": [],
   "source": [
    "k=11\n",
    "estrategia = EstrategiaParticionado.ValidacionSimple()\n",
    "c = Clasificador.ClasificadorVecinosProximos(k, weights='distance', normalizar=False)\n",
    "error11 = c.validacion(estrategia, d_ex2, c, seed)\n",
    "print(\"Fichero online_shoppers.data: \")\n",
    "print(\"Media: \")\n",
    "print(np.mean(error11))\n",
    "print(\"Desviacion tipica: \")\n",
    "print(np.std(error11))"
   ]
  },
  {
   "cell_type": "code",
   "execution_count": null,
   "metadata": {},
   "outputs": [],
   "source": [
    "k=21\n",
    "estrategia = EstrategiaParticionado.ValidacionSimple()\n",
    "c = Clasificador.ClasificadorVecinosProximos(k, weights='distance', normalizar=False)\n",
    "error1 = c.validacion(estrategia, d_ex2, c, seed)\n",
    "print(\"Fichero online_shoppers.data: \")\n",
    "print(\"Media: \")\n",
    "print(np.mean(error21))\n",
    "print(\"Desviacion tipica: \")\n",
    "print(np.std(error21))"
   ]
  },
  {
   "cell_type": "code",
   "execution_count": null,
   "metadata": {},
   "outputs": [],
   "source": [
    "k=55\n",
    "estrategia = EstrategiaParticionado.ValidacionSimple()\n",
    "c = Clasificador.ClasificadorVecinosProximos(k, weights='distance', normalizar=False)\n",
    "error1 = c.validacion(estrategia, d_ex2, c, seed)\n",
    "print(\"Fichero online_shoppers.data: \")\n",
    "print(\"Media: \")\n",
    "print(np.mean(error55))\n",
    "print(\"Desviacion tipica: \")\n",
    "print(np.std(error55))"
   ]
  },
  {
   "cell_type": "code",
   "execution_count": null,
   "metadata": {},
   "outputs": [],
   "source": [
    "X = d_ex2.datos[:,:-1]\n",
    "y = d_ex2.datos[:,-1]\n",
    "\n",
    "vecinos = [1,3,5,11,21,55]\n",
    "\n",
    "print(\"Clasificador Vecinos Proximos con Scikit para online_shoppers.data\")\n",
    "print(\"________________________________________\")\n"
   ]
  },
  {
   "cell_type": "code",
   "execution_count": null,
   "metadata": {},
   "outputs": [],
   "source": []
  },
  {
   "cell_type": "code",
   "execution_count": null,
   "metadata": {},
   "outputs": [],
   "source": [
    "stds = [np.std(error1), np.std(error3), np.std(error5), np.std(error11), np.std(error21), np.std(error55)]\n",
    "trainAndPlotKNN([error1, error3, error5, error11, error21, error55], stds, [1, 3, 5, 11, 21, 55], \"Error y desviacion tipica con KNN(Validacion Simple) para online_shoppers.data (weights=distance)\", X, y)"
   ]
  },
  {
   "cell_type": "markdown",
   "metadata": {},
   "source": [
    "### Pruebas para diferentes k con wdbc.data, weights=distance, validación cruzada y datos no normalizados"
   ]
  },
  {
   "cell_type": "code",
   "execution_count": null,
   "metadata": {},
   "outputs": [],
   "source": [
    "k=1\n",
    "estrategia = EstrategiaParticionado.ValidacionCruzada(5)\n",
    "c = Clasificador.ClasificadorVecinosProximos(k, normalizar=False, weights='distance')\n",
    "error1 = c.validacion(estrategia, d_ex1, c, seed)\n",
    "print(\"Fichero wdbc.data: \")\n",
    "print(\"Media: \")\n",
    "print(np.mean(error1))\n",
    "print(\"Desviacion tipica: \")\n",
    "print(np.std(error1))"
   ]
  },
  {
   "cell_type": "code",
   "execution_count": null,
   "metadata": {},
   "outputs": [],
   "source": [
    "k=3\n",
    "estrategia = EstrategiaParticionado.ValidacionCruzada(5)\n",
    "c = Clasificador.ClasificadorVecinosProximos(k, normalizar=False, weights='distance')\n",
    "error3 = c.validacion(estrategia, d_ex1, c, seed)\n",
    "print(\"Fichero wdbc.data: \")\n",
    "print(\"Media: \")\n",
    "print(np.mean(error3))\n",
    "print(\"Desviacion tipica: \")\n",
    "print(np.std(error3))"
   ]
  },
  {
   "cell_type": "code",
   "execution_count": null,
   "metadata": {},
   "outputs": [],
   "source": [
    "k=5\n",
    "estrategia = EstrategiaParticionado.ValidacionCruzada(5)\n",
    "c = Clasificador.ClasificadorVecinosProximos(k, normalizar=False, weights='distance')\n",
    "error5 = c.validacion(estrategia, d_ex1, c, seed)\n",
    "print(\"Fichero wdbc.data: \")\n",
    "print(\"Media: \")\n",
    "print(np.mean(error5))\n",
    "print(\"Desviacion tipica: \")\n",
    "print(np.std(error5))"
   ]
  },
  {
   "cell_type": "code",
   "execution_count": null,
   "metadata": {},
   "outputs": [],
   "source": [
    "k=11\n",
    "estrategia = EstrategiaParticionado.ValidacionCruzada(5)\n",
    "c = Clasificador.ClasificadorVecinosProximos(k, normalizar=False, weights='distance')\n",
    "error11 = c.validacion(estrategia, d_ex1, c, seed)\n",
    "print(\"Fichero wdbc.data: \")\n",
    "print(\"Media: \")\n",
    "print(np.mean(error11))\n",
    "print(\"Desviacion tipica: \")\n",
    "print(np.std(error11))"
   ]
  },
  {
   "cell_type": "code",
   "execution_count": null,
   "metadata": {},
   "outputs": [],
   "source": [
    "k=21\n",
    "estrategia = EstrategiaParticionado.ValidacionCruzada(5)\n",
    "c = Clasificador.ClasificadorVecinosProximos(k, normalizar=False, weights='distance')\n",
    "error21 = c.validacion(estrategia, d_ex1, c, seed)\n",
    "print(\"Fichero wdbc.data: \")\n",
    "print(\"Media: \")\n",
    "print(np.mean(error21))\n",
    "print(\"Desviacion tipica: \")\n",
    "print(np.std(error21))"
   ]
  },
  {
   "cell_type": "code",
   "execution_count": null,
   "metadata": {},
   "outputs": [],
   "source": [
    "k=55\n",
    "estrategia = EstrategiaParticionado.ValidacionCruzada(5)\n",
    "c = Clasificador.ClasificadorVecinosProximos(k, normalizar=False, weights='distance')\n",
    "error55 = c.validacion(estrategia, d_ex1, c, seed)\n",
    "print(\"Fichero wdbc.data: \")\n",
    "print(\"Media: \")\n",
    "print(np.mean(error55))\n",
    "print(\"Desviacion tipica: \")\n",
    "print(np.std(error55))"
   ]
  },
  {
   "cell_type": "code",
   "execution_count": null,
   "metadata": {},
   "outputs": [],
   "source": [
    "X = d_ex1.datos[:,:-1]\n",
    "y = d_ex1.datos[:,-1]\n",
    "\n",
    "vecinos = [1,3,5,11,21,55]\n",
    "\n",
    "print(\"Clasificador Vecinos Proximos con Scikit para wdbc.data\")\n",
    "print(\"________________________________________\")\n"
   ]
  },
  {
   "cell_type": "code",
   "execution_count": null,
   "metadata": {},
   "outputs": [],
   "source": [
    "stds = [np.std(error1), np.std(error3), np.std(error5), np.std(error11), np.std(error21), np.std(error55)]\n",
    "trainAndPlotKNNCross([error1, error3, error5, error11, error21, error55], stds, [1, 3, 5, 11, 21, 55], X, y, weights_param='distance', dataset_name='wdbc')"
   ]
  },
  {
   "cell_type": "code",
   "execution_count": null,
   "metadata": {},
   "outputs": [],
   "source": []
  },
  {
   "cell_type": "markdown",
   "metadata": {},
   "source": [
    "### Pruebas para diferentes k con wdbc.data, weights=uniform, validación cruzada y datos no normalizados"
   ]
  },
  {
   "cell_type": "code",
   "execution_count": null,
   "metadata": {},
   "outputs": [],
   "source": [
    "k=1\n",
    "estrategia = EstrategiaParticionado.ValidacionCruzada(5)\n",
    "c = Clasificador.ClasificadorVecinosProximos(k, weights='uniform', normalizar=False)\n",
    "error1 = c.validacion(estrategia, d_ex1, c, seed)\n",
    "print(\"Fichero wdbc.data: \")\n",
    "print(\"Media: \")\n",
    "print(np.mean(error1))\n",
    "print(\"Desviacion tipica: \")\n",
    "print(np.std(error1))"
   ]
  },
  {
   "cell_type": "code",
   "execution_count": null,
   "metadata": {},
   "outputs": [],
   "source": [
    "k=3\n",
    "estrategia = EstrategiaParticionado.ValidacionCruzada(5)\n",
    "c = Clasificador.ClasificadorVecinosProximos(k, weights='uniform', normalizar=False)\n",
    "error3 = c.validacion(estrategia, d_ex1, c, seed)\n",
    "print(\"Fichero wdbc.data: \")\n",
    "print(\"Media: \")\n",
    "print(np.mean(error3))\n",
    "print(\"Desviacion tipica: \")\n",
    "print(np.std(error3))"
   ]
  },
  {
   "cell_type": "code",
   "execution_count": null,
   "metadata": {},
   "outputs": [],
   "source": [
    "k=5\n",
    "estrategia = EstrategiaParticionado.ValidacionCruzada(5)\n",
    "c = Clasificador.ClasificadorVecinosProximos(k, weights='uniform', normalizar=False)\n",
    "error5 = c.validacion(estrategia, d_ex1, c, seed)\n",
    "print(\"Fichero wdbc.data: \")\n",
    "print(\"Media: \")\n",
    "print(np.mean(error5))\n",
    "print(\"Desviacion tipica: \")\n",
    "print(np.std(error5))"
   ]
  },
  {
   "cell_type": "code",
   "execution_count": null,
   "metadata": {},
   "outputs": [],
   "source": [
    "k=11\n",
    "estrategia = EstrategiaParticionado.ValidacionCruzada(5)\n",
    "c = Clasificador.ClasificadorVecinosProximos(k, weights='uniform', normalizar=False)\n",
    "error11 = c.validacion(estrategia, d_ex1, c, seed)\n",
    "print(\"Fichero wdbc.data: \")\n",
    "print(\"Media: \")\n",
    "print(np.mean(error11))\n",
    "print(\"Desviacion tipica: \")\n",
    "print(np.std(error11))"
   ]
  },
  {
   "cell_type": "code",
   "execution_count": null,
   "metadata": {},
   "outputs": [],
   "source": [
    "k=21\n",
    "estrategia = EstrategiaParticionado.ValidacionCruzada(5)\n",
    "c = Clasificador.ClasificadorVecinosProximos(k, weights='uniform', normalizar=False)\n",
    "error21 = c.validacion(estrategia, d_ex1, c, seed)\n",
    "print(\"Fichero wdbc.data: \")\n",
    "print(\"Media: \")\n",
    "print(np.mean(error21))\n",
    "print(\"Desviacion tipica: \")\n",
    "print(np.std(error21))"
   ]
  },
  {
   "cell_type": "code",
   "execution_count": null,
   "metadata": {},
   "outputs": [],
   "source": [
    "k=55\n",
    "estrategia = EstrategiaParticionado.ValidacionCruzada(5)\n",
    "c = Clasificador.ClasificadorVecinosProximos(k, weights='uniform', normalizar=False)\n",
    "error55 = c.validacion(estrategia, d_ex1, c, seed)\n",
    "print(\"Fichero wdbc.data: \")\n",
    "print(\"Media: \")\n",
    "print(np.mean(error55))\n",
    "print(\"Desviacion tipica: \")\n",
    "print(np.std(error55))"
   ]
  },
  {
   "cell_type": "code",
   "execution_count": null,
   "metadata": {},
   "outputs": [],
   "source": [
    "X = d_ex1.datos[:,:-1]\n",
    "y = d_ex1.datos[:,-1]\n",
    "\n",
    "vecinos = [1,3,5,11,21,55]\n",
    "\n",
    "print(\"Clasificador Vecinos Proximos con Scikit para wdbc.data\")\n",
    "print(\"________________________________________\")\n"
   ]
  },
  {
   "cell_type": "code",
   "execution_count": null,
   "metadata": {},
   "outputs": [],
   "source": [
    "stds = [np.std(error1), np.std(error3), np.std(error5), np.std(error11), np.std(error21), np.std(error55)]\n",
    "trainAndPlotKNNCross([error1, error3, error5, error11, error21, error55], stds, [1, 3, 5, 11, 21, 55], X, y, weights_param='uniform', dataset_name='wdbc')"
   ]
  },
  {
   "cell_type": "code",
   "execution_count": null,
   "metadata": {},
   "outputs": [],
   "source": []
  },
  {
   "cell_type": "markdown",
   "metadata": {},
   "source": [
    "### Pruebas para diferentes k con online_shoppers.data, weights=uniform, validación simple y datos no normalizados"
   ]
  },
  {
   "cell_type": "code",
   "execution_count": null,
   "metadata": {},
   "outputs": [],
   "source": [
    "k=1\n",
    "estrategia = EstrategiaParticionado.ValidacionSimple()\n",
    "c = Clasificador.ClasificadorVecinosProximos(k, weights='uniform', distance=False)\n",
    "error1 = c.validacion(estrategia, d_ex2, c, seed)\n",
    "print(\"Fichero online_shoppers.data: \")\n",
    "print(\"Media: \")\n",
    "print(np.mean(error1))\n",
    "print(\"Desviacion tipica: \")\n",
    "print(np.std(error1))"
   ]
  },
  {
   "cell_type": "code",
   "execution_count": null,
   "metadata": {},
   "outputs": [],
   "source": [
    "k=3\n",
    "estrategia = EstrategiaParticionado.ValidacionSimple()\n",
    "c = Clasificador.ClasificadorVecinosProximos(k, weights='uniform', distance=False)\n",
    "error1 = c.validacion(estrategia, d_ex2, c, seed)\n",
    "print(\"Fichero online_shoppers.data: \")\n",
    "print(\"Media: \")\n",
    "print(np.mean(error1))\n",
    "print(\"Desviacion tipica: \")\n",
    "print(np.std(error1))"
   ]
  },
  {
   "cell_type": "code",
   "execution_count": null,
   "metadata": {},
   "outputs": [],
   "source": [
    "k=5\n",
    "estrategia = EstrategiaParticionado.ValidacionSimple()\n",
    "c = Clasificador.ClasificadorVecinosProximos(k, weights='uniform', distance=False)\n",
    "error1 = c.validacion(estrategia, d_ex2, c, seed)\n",
    "print(\"Fichero online_shoppers.data: \")\n",
    "print(\"Media: \")\n",
    "print(np.mean(error1))\n",
    "print(\"Desviacion tipica: \")\n",
    "print(np.std(error1))"
   ]
  },
  {
   "cell_type": "code",
   "execution_count": null,
   "metadata": {},
   "outputs": [],
   "source": [
    "k=11\n",
    "estrategia = EstrategiaParticionado.ValidacionSimple()\n",
    "c = Clasificador.ClasificadorVecinosProximos(k, weights='uniform', distance=False)\n",
    "error1 = c.validacion(estrategia, d_ex2, c, seed)\n",
    "print(\"Fichero online_shoppers.data: \")\n",
    "print(\"Media: \")\n",
    "print(np.mean(error1))\n",
    "print(\"Desviacion tipica: \")\n",
    "print(np.std(error1))"
   ]
  },
  {
   "cell_type": "code",
   "execution_count": null,
   "metadata": {},
   "outputs": [],
   "source": [
    "k=21\n",
    "estrategia = EstrategiaParticionado.ValidacionSimple()\n",
    "c = Clasificador.ClasificadorVecinosProximos(k, weights='uniform', distance=False)\n",
    "error1 = c.validacion(estrategia, d_ex2, c, seed)\n",
    "print(\"Fichero online_shoppers.data: \")\n",
    "print(\"Media: \")\n",
    "print(np.mean(error1))\n",
    "print(\"Desviacion tipica: \")\n",
    "print(np.std(error1))"
   ]
  },
  {
   "cell_type": "code",
   "execution_count": null,
   "metadata": {},
   "outputs": [],
   "source": [
    "k=55\n",
    "estrategia = EstrategiaParticionado.ValidacionSimple()\n",
    "c = Clasificador.ClasificadorVecinosProximos(k, weights='uniform', distance=False)\n",
    "error1 = c.validacion(estrategia, d_ex2, c, seed)\n",
    "print(\"Fichero online_shoppers.data: \")\n",
    "print(\"Media: \")\n",
    "print(np.mean(error1))\n",
    "print(\"Desviacion tipica: \")\n",
    "print(np.std(error1))"
   ]
  },
  {
   "cell_type": "code",
   "execution_count": null,
   "metadata": {},
   "outputs": [],
   "source": [
    "X = d_ex1.datos[:,:-1]\n",
    "y = d_ex1.datos[:,-1]\n",
    "\n",
    "vecinos = [1,3,5,11,21,55]\n",
    "\n",
    "print(\"Clasificador Vecinos Proximos con Scikit para online_shoppers.data\")\n",
    "print(\"________________________________________\")\n"
   ]
  },
  {
   "cell_type": "code",
   "execution_count": null,
   "metadata": {},
   "outputs": [],
   "source": []
  },
  {
   "cell_type": "code",
   "execution_count": null,
   "metadata": {},
   "outputs": [],
   "source": [
    "stds = [np.std(error1), np.std(error3), np.std(error5), np.std(error11), np.std(error21), np.std(error55)]\n",
    "trainAndPlotKNN([error1, error3, error5, error11, error21, error55], stds, [1, 3, 5, 11, 21, 55], \"Error y desviacion tipica con KNN(Validacion Simple) para online_shopers.data (weights=uniform)\", X, y, weights_param='uniform')"
   ]
  },
  {
   "cell_type": "markdown",
   "metadata": {},
   "source": [
    "### Pruebas example1.data, example2.data, example3.data y example4.data con plotModel.py"
   ]
  },
  {
   "cell_type": "markdown",
   "metadata": {},
   "source": [
    "##### example1.data"
   ]
  },
  {
   "cell_type": "code",
   "execution_count": 32,
   "metadata": {},
   "outputs": [
    {
     "name": "stdout",
     "output_type": "stream",
     "text": [
      "_________\n",
      "K= 1\n",
      "_________\n",
      "Media: \n",
      "0.1875\n",
      "Desviacion tipica: \n",
      "0.05303300858899106\n",
      "[0 0 0 ... 0 0 0]\n",
      "_________\n",
      "K= 3\n",
      "_________\n",
      "Media: \n",
      "0.14\n",
      "Desviacion tipica: \n",
      "0.028939592256975562\n",
      "[0 0 0 ... 0 0 0]\n",
      "_________\n",
      "K= 5\n",
      "_________\n",
      "Media: \n",
      "0.1325\n",
      "Desviacion tipica: \n",
      "0.029154759474226497\n",
      "[0 0 0 ... 0 0 0]\n",
      "_________\n",
      "K= 11\n",
      "_________\n",
      "Media: \n",
      "0.1425\n",
      "Desviacion tipica: \n",
      "0.034999999999999996\n",
      "[0 0 0 ... 0 0 0]\n",
      "_________\n",
      "K= 21\n",
      "_________\n",
      "Media: \n",
      "0.135\n",
      "Desviacion tipica: \n",
      "0.03391164991562634\n",
      "[0 0 0 ... 0 0 0]\n",
      "_________\n",
      "K= 55\n",
      "_________\n",
      "Media: \n",
      "0.1625\n",
      "Desviacion tipica: \n",
      "0.05\n",
      "[0 0 0 ... 0 0 0]\n"
     ]
    },
    {
     "data": {
      "text/html": [
       "<table style=\"width:100%\">\n",
       "    <caption>Example 1 KNN</caption>\n",
       "     <tr>\n",
       "    <th>K</th>\n",
       "    <th>Nuestro</th>\n",
       "    <th>Scikit</th>\n",
       "  </tr>\n",
       "    <tr><td>1</td><td>0.188+-0.053</td></tr><tr><td>3</td><td>0.14+-0.029</td></tr><tr><td>5</td><td>0.132+-0.029</td></tr><tr><td>11</td><td>0.142+-0.035</td></tr><tr><td>21</td><td>0.135+-0.034</td></tr><tr><td>55</td><td>0.162+-0.05</td></tr></table>"
      ],
      "text/plain": [
       "<IPython.core.display.HTML object>"
      ]
     },
     "metadata": {},
     "output_type": "display_data"
    },
    {
     "data": {
      "image/png": "[encoded data removed]",
      "text/plain": [
       "<Figure size 432x288 with 1 Axes>"
      ]
     },
     "metadata": {
      "needs_background": "light"
     },
     "output_type": "display_data"
    },
    {
     "data": {
      "image/png": "[encoded data removed]",
      "text/plain": [
       "<Figure size 432x288 with 1 Axes>"
      ]
     },
     "metadata": {
      "needs_background": "light"
     },
     "output_type": "display_data"
    },
    {
     "data": {
      "image/png": "[encoded data removed]",
      "text/plain": [
       "<Figure size 432x288 with 1 Axes>"
      ]
     },
     "metadata": {
      "needs_background": "light"
     },
     "output_type": "display_data"
    },
    {
     "data": {
      "image/png": "[encoded data removed]",
      "text/plain": [
       "<Figure size 432x288 with 1 Axes>"
      ]
     },
     "metadata": {
      "needs_background": "light"
     },
     "output_type": "display_data"
    },
    {
     "data": {
      "image/png": "[encoded data removed]",
      "text/plain": [
       "<Figure size 432x288 with 1 Axes>"
      ]
     },
     "metadata": {
      "needs_background": "light"
     },
     "output_type": "display_data"
    },
    {
     "data": {
      "image/png": "[encoded data removed]",
      "text/plain": [
       "<Figure size 432x288 with 1 Axes>"
      ]
     },
     "metadata": {
      "needs_background": "light"
     },
     "output_type": "display_data"
    },
    {
     "data": {
      "text/plain": [
       "<Figure size 432x288 with 0 Axes>"
      ]
     },
     "metadata": {},
     "output_type": "display_data"
    }
   ],
   "source": [
    "k_vecinos=[1,3,5,11,21,55]\n",
    "errores = []\n",
    "for k in k_vecinos:\n",
    "    estrategia = EstrategiaParticionado.ValidacionCruzada(5)\n",
    "    c = Clasificador.ClasificadorVecinosProximos(k, weights='uniform', normalizar = False)\n",
    "    error = c.validacion(estrategia, d_ex3, c, seed)\n",
    "    errores.append((error, k))\n",
    "    print(\"_________\")\n",
    "    print(\"K=\", k)\n",
    "    print(\"_________\")\n",
    "    print(\"Media: \")\n",
    "    print(np.mean(error))\n",
    "    print(\"Desviacion tipica: \")\n",
    "    print(np.std(error))\n",
    "\n",
    "    estrategia.creaParticiones(d_ex3.datos, seed=seed)\n",
    "    train = estrategia.particiones[-1].indicesTrain\n",
    "    test = estrategia.particiones[-1].indicesTest\n",
    "\n",
    "    datostrain= d_ex3.extraeDatos(train)\n",
    "    datostest= d_ex3.extraeDatos(test)\n",
    "\n",
    "    c.entrenamiento(datostrain, d_ex3.nominalAtributos, d_ex3.diccionarios)\n",
    "\n",
    "    ii = estrategia.particiones[-1].indicesTrain\n",
    "\n",
    "    plotModel(d_ex3.datos[ii, 0], d_ex3.datos[ii, 1], d_ex3.datos[ii, -1] != 0, c, \"KNN example1.data + distance K=\"+str(k), d_ex3.diccionarios)\n",
    "    plt.figure()\n",
    "    \n",
    "plotKNN(errores, 'Example1 KNN', weights_param='uniform')"
   ]
  },
  {
   "cell_type": "markdown",
   "metadata": {},
   "source": [
    "##### example2.data"
   ]
  },
  {
   "cell_type": "code",
   "execution_count": null,
   "metadata": {},
   "outputs": [],
   "source": [
    "k_vecinos=[1,3,5,11,21,55]\n",
    "errores = []\n",
    "for k in k_vecinos:\n",
    "    estrategia = EstrategiaParticionado.ValidacionCruzada(5)\n",
    "    c = Clasificador.ClasificadorVecinosProximos(k, weights='uniform', normalizar = False)\n",
    "    error = c.validacion(estrategia, d_ex4, c, seed)\n",
    "    errores.append((error, k))\n",
    "    print(\"_________\")\n",
    "    print(\"K=\", k)\n",
    "    print(\"_________\")\n",
    "    print(\"Media: \")\n",
    "    print(np.mean(error))\n",
    "    print(\"Desviacion tipica: \")\n",
    "    print(np.std(error))\n",
    "\n",
    "    estrategia.creaParticiones(d_ex4.datos, seed=seed)\n",
    "    train = estrategia.particiones[-1].indicesTrain\n",
    "    test = estrategia.particiones[-1].indicesTest\n",
    "\n",
    "    datostrain= d_ex4.extraeDatos(train)\n",
    "    datostest= d_ex4.extraeDatos(test)\n",
    "\n",
    "    c.entrenamiento(datostrain, d_ex4.nominalAtributos, d_ex4.diccionarios)\n",
    "\n",
    "    ii = estrategia.particiones[-1].indicesTrain\n",
    "\n",
    "    plotModel(d_ex4.datos[ii, 0], d_ex4.datos[ii, 1], d_ex4.datos[ii, -1] != 0, c, \"KNN example2.data + distance K=\"+str(k), d_ex4.diccionarios)\n",
    "    plt.figure()\n",
    "\n",
    "plotKNN(errores, 'Example2 KNN', weights_param='uniform')"
   ]
  },
  {
   "cell_type": "markdown",
   "metadata": {},
   "source": [
    "##### example3.data"
   ]
  },
  {
   "cell_type": "code",
   "execution_count": null,
   "metadata": {},
   "outputs": [],
   "source": [
    "k_vecinos=[1,3,5,11,21,55]\n",
    "errores = []\n",
    "for k in k_vecinos:\n",
    "    estrategia = EstrategiaParticionado.ValidacionCruzada(5)\n",
    "    c = Clasificador.ClasificadorVecinosProximos(k, weights='uniform', normalizar = False)\n",
    "    error = c.validacion(estrategia, d_ex5, c, seed)\n",
    "    errores.append((error, k))\n",
    "    print(\"_________\")\n",
    "    print(\"K=\", k)\n",
    "    print(\"_________\")\n",
    "    print(\"Media: \")\n",
    "    print(np.mean(error))\n",
    "    print(\"Desviacion tipica: \")\n",
    "    print(np.std(error))\n",
    "\n",
    "    estrategia.creaParticiones(d_ex5.datos, seed=seed)\n",
    "    train = estrategia.particiones[-1].indicesTrain\n",
    "    test = estrategia.particiones[-1].indicesTest\n",
    "\n",
    "    datostrain= d_ex5.extraeDatos(train)\n",
    "    datostest= d_ex5.extraeDatos(test)\n",
    "\n",
    "    c.entrenamiento(datostrain, d_ex5.nominalAtributos, d_ex5.diccionarios)\n",
    "\n",
    "    ii = estrategia.particiones[-1].indicesTrain\n",
    "\n",
    "    plotModel(d_ex5.datos[ii, 0], d_ex5.datos[ii, 1], d_ex5.datos[ii, -1] != 0, c, \"KNN example3.data + distance K=\"+str(k), d_ex5.diccionarios)\n",
    "    plt.figure()\n",
    "    \n",
    "plotKNN(errores, 'Example3 KNN', weights_param='uniform')"
   ]
  },
  {
   "cell_type": "markdown",
   "metadata": {},
   "source": [
    "##### example4.data"
   ]
  },
  {
   "cell_type": "code",
   "execution_count": null,
   "metadata": {},
   "outputs": [],
   "source": [
    "k_vecinos=[1,3,5,11,21,55]\n",
    "errores = []\n",
    "for k in k_vecinos:\n",
    "    estrategia = EstrategiaParticionado.ValidacionCruzada(5)\n",
    "    c = Clasificador.ClasificadorVecinosProximos(k, weights='uniform', normalizar = False)\n",
    "    error = c.validacion(estrategia, d_ex6, c, seed)\n",
    "    errores.append((error, k))\n",
    "    print(\"_________\")\n",
    "    print(\"K=\", k)\n",
    "    print(\"_________\")\n",
    "    print(\"Media: \")\n",
    "    print(np.mean(error))\n",
    "    print(\"Desviacion tipica: \")\n",
    "    print(np.std(error))\n",
    "\n",
    "    estrategia.creaParticiones(d_ex6.datos, seed=seed)\n",
    "    train = estrategia.particiones[-1].indicesTrain\n",
    "    test = estrategia.particiones[-1].indicesTest\n",
    "\n",
    "    datostrain= d_ex6.extraeDatos(train)\n",
    "    datostest= d_ex6.extraeDatos(test)\n",
    "\n",
    "    c.entrenamiento(datostrain, d_ex6.nominalAtributos, d_ex6.diccionarios)\n",
    "\n",
    "    ii = estrategia.particiones[-1].indicesTrain\n",
    "\n",
    "    plotModel(d_ex6.datos[ii, 0], d_ex6.datos[ii, 1], d_ex6.datos[ii, -1] != 0, c, \"KNN example4.data + distance K=\"+str(k), d_ex6.diccionarios)\n",
    "    plt.figure()\n",
    "    \n",
    "plotKNN(errores, 'Example4 KNN', weights_param='uniform')"
   ]
  },
  {
   "cell_type": "markdown",
   "metadata": {},
   "source": [
    "# RL"
   ]
  },
  {
   "cell_type": "code",
   "execution_count": null,
   "metadata": {},
   "outputs": [],
   "source": [
    "import sklearn.linear_model as lm\n",
    "import sklearn.metrics as m"
   ]
  },
  {
   "cell_type": "code",
   "execution_count": null,
   "metadata": {},
   "outputs": [],
   "source": [
    "X = d_ex1.datos[:,:-1]\n",
    "y = d_ex1.datos[:,-1]\n",
    "epocas = [10,100,1000]\n",
    "n_aprend = [1,0.1,0.01]\n",
    "scaler = preprocessing.StandardScaler().fit(X)\n",
    "X_scale = scaler.transform(X)\n",
    "print(\"Regresion Logistica con Scikit\")\n",
    "print(\"________________________________________\")\n",
    "for i in epocas:\n",
    "    for j in n_aprend:\n",
    "        print(\"nEpocas:\",i,\"n: \",j)\n",
    "        rl = lm.LogisticRegression(max_iter=i,fit_intercept=j)\n",
    "\n",
    "        rl.fit(X_scale, y)\n",
    "\n",
    "        validacion = cross_val_score(rl, X_scale, y, cv=5)\n",
    "        err = 1 - np.mean((validacion))\n",
    "        dt = np.std((validacion))\n",
    "        print(\"err: \", err, \" std: \", dt)"
   ]
  },
  {
   "cell_type": "code",
   "execution_count": null,
   "metadata": {},
   "outputs": [],
   "source": [
    "X = d_ex1.datos[:,:-1]\n",
    "y = d_ex1.datos[:,-1]\n",
    "epocas = [10,100,1000]\n",
    "n_aprend = [1,0.1,0.01]\n",
    "print(\"Regresion Logistica con Scikit\")\n",
    "print(\"________________________________________\")\n",
    "for i in epocas:\n",
    "    for j in n_aprend:\n",
    "        print(\"nEpocas:\",i,\"n: \",j)\n",
    "        rl = lm.LogisticRegression(max_iter=i,fit_intercept=j)\n",
    "\n",
    "        rl.fit(X_scale, y)\n",
    "\n",
    "        validacion = cross_val_score(rl, X, y, cv=5)\n",
    "        err = 1 - np.mean((validacion))\n",
    "        dt = np.std((validacion))\n",
    "        print(\"err: \", err, \" std: \", dt)"
   ]
  },
  {
   "cell_type": "code",
   "execution_count": null,
   "metadata": {},
   "outputs": [],
   "source": [
    "# constante de aprendizaje: [1,0.1,0.01]\n",
    "# nEpocas: [10,100,1000]"
   ]
  },
  {
   "cell_type": "markdown",
   "metadata": {},
   "source": [
    "### Pruebas con wdbc.data, constante de aprendizaje=1, nEpocas=10 y datos no normalizados"
   ]
  },
  {
   "cell_type": "code",
   "execution_count": null,
   "metadata": {},
   "outputs": [],
   "source": [
    "estrategia = EstrategiaParticionado.ValidacionCruzada(5)\n",
    "c = Clasificador.ClasificadorRegresionLogistica(nEpocas=10, constante=1)\n",
    "errorA = c.validacion(estrategia, d_ex1, c, seed)\n",
    "print(\"Fichero wdbc.data: \")\n",
    "print(\"Media: \")\n",
    "print(np.mean(errorA))\n",
    "print(\"Desviacion tipica: \")\n",
    "print(np.std(errorA))"
   ]
  },
  {
   "cell_type": "markdown",
   "metadata": {},
   "source": [
    "### Pruebas con wdbc.data, constante de aprendizaje=1, nEpocas=100 y datos no normalizados"
   ]
  },
  {
   "cell_type": "code",
   "execution_count": null,
   "metadata": {},
   "outputs": [],
   "source": [
    "estrategia = EstrategiaParticionado.ValidacionCruzada(5)\n",
    "c = Clasificador.ClasificadorRegresionLogistica(nEpocas=100, constante=1)\n",
    "errorA = c.validacion(estrategia, d_ex1, c, seed)\n",
    "print(\"Fichero wdbc.data: \")\n",
    "print(\"Media: \")\n",
    "print(np.mean(errorA))\n",
    "print(\"Desviacion tipica: \")\n",
    "print(np.std(errorA))"
   ]
  },
  {
   "cell_type": "markdown",
   "metadata": {},
   "source": [
    "### Pruebas con wdbc.data, constante de aprendizaje=1, nEpocas=1000 y datos no normalizados"
   ]
  },
  {
   "cell_type": "code",
   "execution_count": null,
   "metadata": {},
   "outputs": [],
   "source": [
    "estrategia = EstrategiaParticionado.ValidacionCruzada(5)\n",
    "c = Clasificador.ClasificadorRegresionLogistica(nEpocas=1000, constante=1)\n",
    "errorA = c.validacion(estrategia, d_ex1, c, seed)\n",
    "print(\"Fichero wdbc.data: \")\n",
    "print(\"Media: \")\n",
    "print(np.mean(errorA))\n",
    "print(\"Desviacion tipica: \")\n",
    "print(np.std(errorA))"
   ]
  },
  {
   "cell_type": "markdown",
   "metadata": {},
   "source": [
    "### Pruebas con wdbc.data, constante de aprendizaje=0.1, nEpocas=10 y datos no normalizados"
   ]
  },
  {
   "cell_type": "code",
   "execution_count": null,
   "metadata": {},
   "outputs": [],
   "source": [
    "estrategia = EstrategiaParticionado.ValidacionCruzada(5)\n",
    "c = Clasificador.ClasificadorRegresionLogistica(nEpocas=10, constante=0.1)\n",
    "errorA = c.validacion(estrategia, d_ex1, c, seed)\n",
    "print(\"Fichero wdbc.data: \")\n",
    "print(\"Media: \")\n",
    "print(np.mean(errorA))\n",
    "print(\"Desviacion tipica: \")\n",
    "print(np.std(errorA))"
   ]
  },
  {
   "cell_type": "markdown",
   "metadata": {},
   "source": [
    "### Pruebas con wdbc.data, constante de aprendizaje=0.1, nEpocas=100 y datos no normalizados"
   ]
  },
  {
   "cell_type": "code",
   "execution_count": null,
   "metadata": {},
   "outputs": [],
   "source": [
    "estrategia = EstrategiaParticionado.ValidacionCruzada(5)\n",
    "c = Clasificador.ClasificadorRegresionLogistica(nEpocas=100, constante=0.1)\n",
    "errorA = c.validacion(estrategia, d_ex1, c, seed)\n",
    "print(\"Fichero wdbc.data: \")\n",
    "print(\"Media: \")\n",
    "print(np.mean(errorA))\n",
    "print(\"Desviacion tipica: \")\n",
    "print(np.std(errorA))"
   ]
  },
  {
   "cell_type": "markdown",
   "metadata": {},
   "source": [
    "### Pruebas con wdbc.data, constante de aprendizaje=0.1, nEpocas=1000 y datos no normalizados"
   ]
  },
  {
   "cell_type": "code",
   "execution_count": null,
   "metadata": {},
   "outputs": [],
   "source": [
    "estrategia = EstrategiaParticionado.ValidacionCruzada(5)\n",
    "c = Clasificador.ClasificadorRegresionLogistica(nEpocas=1000, constante=0.1)\n",
    "errorA = c.validacion(estrategia, d_ex1, c, seed)\n",
    "print(\"Fichero wdbc.data: \")\n",
    "print(\"Media: \")\n",
    "print(np.mean(errorA))\n",
    "print(\"Desviacion tipica: \")\n",
    "print(np.std(errorA))"
   ]
  },
  {
   "cell_type": "markdown",
   "metadata": {},
   "source": [
    "### Pruebas con wdbc.data, constante de aprendizaje=0.01, nEpocas=10 y datos no normalizados"
   ]
  },
  {
   "cell_type": "code",
   "execution_count": null,
   "metadata": {},
   "outputs": [],
   "source": [
    "estrategia = EstrategiaParticionado.ValidacionCruzada(5)\n",
    "c = Clasificador.ClasificadorRegresionLogistica(nEpocas=10, constante=0.01)\n",
    "errorA = c.validacion(estrategia, d_ex1, c, seed)\n",
    "print(\"Fichero wdbc.data: \")\n",
    "print(\"Media: \")\n",
    "print(np.mean(errorA))\n",
    "print(\"Desviacion tipica: \")\n",
    "print(np.std(errorA))"
   ]
  },
  {
   "cell_type": "markdown",
   "metadata": {},
   "source": [
    "### Pruebas con wdbc.data, constante de aprendizaje=0.01, nEpocas=100 y datos no normalizados"
   ]
  },
  {
   "cell_type": "code",
   "execution_count": null,
   "metadata": {},
   "outputs": [],
   "source": [
    "estrategia = EstrategiaParticionado.ValidacionCruzada(5)\n",
    "c = Clasificador.ClasificadorRegresionLogistica(nEpocas=100, constante=0.01)\n",
    "errorA = c.validacion(estrategia, d_ex1, c, seed)\n",
    "print(\"Fichero wdbc.data: \")\n",
    "print(\"Media: \")\n",
    "print(np.mean(errorA))\n",
    "print(\"Desviacion tipica: \")\n",
    "print(np.std(errorA))"
   ]
  },
  {
   "cell_type": "markdown",
   "metadata": {},
   "source": [
    "### Pruebas con wdbc.data, constante de aprendizaje=0.01, nEpocas=1000 y datos no normalizados"
   ]
  },
  {
   "cell_type": "code",
   "execution_count": null,
   "metadata": {},
   "outputs": [],
   "source": [
    "estrategia = EstrategiaParticionado.ValidacionCruzada(5)\n",
    "c = Clasificador.ClasificadorRegresionLogistica(nEpocas=1000, constante=0.01)\n",
    "errorA = c.validacion(estrategia, d_ex1, c, seed)\n",
    "print(\"Fichero wdbc.data: \")\n",
    "print(\"Media: \")\n",
    "print(np.mean(errorA))\n",
    "print(\"Desviacion tipica: \")\n",
    "print(np.std(errorA))"
   ]
  },
  {
   "cell_type": "markdown",
   "metadata": {},
   "source": [
    "### Pruebas con online_shoppers.data, constante de aprendizaje=1, nEpocas=10 y datos no normalizados"
   ]
  },
  {
   "cell_type": "code",
   "execution_count": null,
   "metadata": {},
   "outputs": [],
   "source": [
    "estrategia = EstrategiaParticionado.ValidacionSimple()\n",
    "c = Clasificador.ClasificadorRegresionLogistica(nEpocas=10, constante=1)\n",
    "errorA = c.validacion(estrategia, d_ex2, c, seed)\n",
    "print(\"Fichero online_shoppers.data: \")\n",
    "print(\"Media: \")\n",
    "print(np.mean(errorA))\n",
    "print(\"Desviacion tipica: \")\n",
    "print(np.std(errorA))"
   ]
  },
  {
   "cell_type": "markdown",
   "metadata": {},
   "source": [
    "### Pruebas con online_shoppers.data, constante de aprendizaje=1, nEpocas=100 y datos no normalizados"
   ]
  },
  {
   "cell_type": "code",
   "execution_count": null,
   "metadata": {},
   "outputs": [],
   "source": [
    "estrategia = EstrategiaParticionado.ValidacionSimple()\n",
    "c = Clasificador.ClasificadorRegresionLogistica(nEpocas=100, constante=1)\n",
    "errorA = c.validacion(estrategia, d_ex2, c, seed)\n",
    "print(\"Fichero online_shoppers.data: \")\n",
    "print(\"Media: \")\n",
    "print(np.mean(errorA))\n",
    "print(\"Desviacion tipica: \")\n",
    "print(np.std(errorA))"
   ]
  },
  {
   "cell_type": "markdown",
   "metadata": {},
   "source": [
    "### Pruebas con online_shoppers.data, constante de aprendizaje=1, nEpocas=1000 y datos no normalizados"
   ]
  },
  {
   "cell_type": "code",
   "execution_count": null,
   "metadata": {},
   "outputs": [],
   "source": [
    "estrategia = EstrategiaParticionado.ValidacionSimple()\n",
    "c = Clasificador.ClasificadorRegresionLogistica(nEpocas=100, constante=1)\n",
    "errorA = c.validacion(estrategia, d_ex2, c, seed)\n",
    "print(\"Fichero online_shoppers.data: \")\n",
    "print(\"Media: \")\n",
    "print(np.mean(errorA))\n",
    "print(\"Desviacion tipica: \")\n",
    "print(np.std(errorA))"
   ]
  },
  {
   "cell_type": "markdown",
   "metadata": {},
   "source": [
    "### Pruebas con online_shoppers.data, constante de aprendizaje=0.1, nEpocas=10 y datos no normalizados"
   ]
  },
  {
   "cell_type": "code",
   "execution_count": null,
   "metadata": {},
   "outputs": [],
   "source": [
    "estrategia = EstrategiaParticionado.ValidacionSimple()\n",
    "c = Clasificador.ClasificadorRegresionLogistica(nEpocas=10, constante=0.1)\n",
    "errorB = c.validacion(estrategia, d_ex2, c, seed)\n",
    "print(\"Fichero online_shoppers.data: \")\n",
    "print(\"Media: \")\n",
    "print(np.mean(errorB))\n",
    "print(\"Desviacion tipica: \")\n",
    "print(np.std(errorB))"
   ]
  },
  {
   "cell_type": "markdown",
   "metadata": {},
   "source": [
    "### Pruebas con online_shoppers.data, constante de aprendizaje=0.1, nEpocas=100 y datos no normalizados"
   ]
  },
  {
   "cell_type": "code",
   "execution_count": null,
   "metadata": {},
   "outputs": [],
   "source": [
    "estrategia = EstrategiaParticionado.ValidacionSimple()\n",
    "c = Clasificador.ClasificadorRegresionLogistica(nEpocas=100, constante=0.1)\n",
    "errorC = c.validacion(estrategia, d_ex2, c, seed)\n",
    "print(\"Fichero online_shoppers.data: \")\n",
    "print(\"Media: \")\n",
    "print(np.mean(errorC))\n",
    "print(\"Desviacion tipica: \")\n",
    "print(np.std(errorC))"
   ]
  },
  {
   "cell_type": "markdown",
   "metadata": {},
   "source": [
    "### Pruebas con online_shoppers.data, constante de aprendizaje=0.1, nEpocas=1000 y datos no normalizados"
   ]
  },
  {
   "cell_type": "code",
   "execution_count": null,
   "metadata": {},
   "outputs": [],
   "source": [
    "estrategia = EstrategiaParticionado.ValidacionSimple()\n",
    "c = Clasificador.ClasificadorRegresionLogistica(nEpocas=1000, constante=0.1)\n",
    "errorD = c.validacion(estrategia, d_ex2, c, seed)\n",
    "print(\"Fichero online_shoppers.data: \")\n",
    "print(\"Media: \")\n",
    "print(np.mean(errorD))\n",
    "print(\"Desviacion tipica: \")\n",
    "print(np.std(errorD))"
   ]
  },
  {
   "cell_type": "markdown",
   "metadata": {},
   "source": [
    "### Pruebas con online_shoppers.data, constante de aprendizaje=0.01, nEpocas=10 y datos no normalizados"
   ]
  },
  {
   "cell_type": "code",
   "execution_count": null,
   "metadata": {},
   "outputs": [],
   "source": [
    "estrategia = EstrategiaParticionado.ValidacionSimple()\n",
    "c = Clasificador.ClasificadorRegresionLogistica(nEpocas=10, constante=0.01)\n",
    "errorE = c.validacion(estrategia, d_ex2, c, seed)\n",
    "print(\"Fichero online_shoppers.data: \")\n",
    "print(\"Media: \")\n",
    "print(np.mean(errorE))\n",
    "print(\"Desviacion tipica: \")\n",
    "print(np.std(errorE))"
   ]
  },
  {
   "cell_type": "markdown",
   "metadata": {},
   "source": [
    "### Pruebas con online_shoppers.data, constante de aprendizaje=0.01, nEpocas=100 y datos no normalizados"
   ]
  },
  {
   "cell_type": "code",
   "execution_count": null,
   "metadata": {},
   "outputs": [],
   "source": [
    "estrategia = EstrategiaParticionado.ValidacionSimple()\n",
    "c = Clasificador.ClasificadorRegresionLogistica(nEpocas=100, constante=0.01)\n",
    "errorF = c.validacion(estrategia, d_ex2, c, seed)\n",
    "print(\"Fichero online_shoppers.data: \")\n",
    "print(\"Media: \")\n",
    "print(np.mean(errorF))\n",
    "print(\"Desviacion tipica: \")\n",
    "print(np.std(errorF))"
   ]
  },
  {
   "cell_type": "markdown",
   "metadata": {},
   "source": [
    "### Pruebas con online_shoppers.data, constante de aprendizaje=0.01, nEpocas=1000 y datos no normalizados"
   ]
  },
  {
   "cell_type": "code",
   "execution_count": null,
   "metadata": {},
   "outputs": [],
   "source": [
    "estrategia = EstrategiaParticionado.ValidacionSimple()\n",
    "c = Clasificador.ClasificadorRegresionLogistica(nEpocas=1000, constante=0.01)\n",
    "errorG = c.validacion(estrategia, d_ex2, c, seed)\n",
    "print(\"Fichero online_shoppers.data: \")\n",
    "print(\"Media: \")\n",
    "print(np.mean(errorG))\n",
    "print(\"Desviacion tipica: \")\n",
    "print(np.std(errorG))"
   ]
  },
  {
   "cell_type": "markdown",
   "metadata": {},
   "source": [
    "### Pruebas con online_shoppers.data, constante de aprendizaje=0.01, nEpocas=1000 y datos normalizados"
   ]
  },
  {
   "cell_type": "code",
   "execution_count": null,
   "metadata": {},
   "outputs": [],
   "source": [
    "estrategia = EstrategiaParticionado.ValidacionSimple()\n",
    "c = Clasificador.ClasificadorRegresionLogistica(nEpocas=1000, constante=0.01)\n",
    "error = c.validacion(estrategia, d_ex2, c, seed)\n",
    "print(\"Fichero online_shoppers.data: \")\n",
    "print(\"Media: \")\n",
    "print(np.mean(error))\n",
    "print(\"Desviacion tipica: \")\n",
    "print(np.std(error))"
   ]
  },
  {
   "cell_type": "markdown",
   "metadata": {},
   "source": []
  },
  {
   "cell_type": "code",
   "execution_count": null,
   "metadata": {},
   "outputs": [],
   "source": [
    "epocas = [10,100,1000]\n",
    "n_aprend = [1,0.1,0.01]\n",
    "data = [(d_ex3, 'example1'), (d_ex4, 'example2'), (d_ex5, 'example3'), (d_ex6, 'example4')]\n",
    "for d, name in data:\n",
    "    for e in epocas:\n",
    "        for n in n_aprend:\n",
    "            # for d in data:\n",
    "            estrategia = EstrategiaParticionado.ValidacionCruzada(5)\n",
    "            c = Clasificador.ClasificadorRegresionLogistica(nEpocas=e, constante=n)\n",
    "            error = c.validacion(estrategia, d, c, seed=seed, oneHot=True)\n",
    "\n",
    "            print(\"_________\")\n",
    "            print(\"e=\", e, \" n=\", n)\n",
    "            print(\"_________\")\n",
    "            print(\"Media: \")\n",
    "            print(np.mean(error))\n",
    "            print(\"Desviacion tipica: \")\n",
    "            print(np.std(error))\n",
    "\n",
    "\n",
    "            estrategia.creaParticiones(d.datos, seed=seed)\n",
    "            train = estrategia.particiones[-1].indicesTrain\n",
    "            test = estrategia.particiones[-1].indicesTest\n",
    "\n",
    "            datostrain= d.extraeDatos(train)\n",
    "            datostest= d.extraeDatos(test)\n",
    "\n",
    "            c.entrenamiento(datostrain, d.nominalAtributos, d.diccionarios)\n",
    "\n",
    "            ii = estrategia.particiones[-1].indicesTrain\n",
    "\n",
    "            plotModel(d.datos[ii, 0], d.datos[ii, 1], d.datos[ii, -1] != 0, c, \"RL\" + str(name) + \".data + nepocas=\"+str(e)+\" n=\"+str(n), d.diccionarios)\n",
    "            plt.figure()\n",
    "        "
   ]
  },
  {
   "cell_type": "code",
   "execution_count": null,
   "metadata": {},
   "outputs": [],
   "source": []
  },
  {
   "cell_type": "markdown",
   "metadata": {},
   "source": [
    "### Apartado 4 ROC"
   ]
  },
  {
   "cell_type": "code",
   "execution_count": 11,
   "metadata": {},
   "outputs": [
    {
     "data": {
      "image/png": "[encoded data removed]",
      "text/plain": [
       "<Figure size 432x288 with 1 Axes>"
      ]
     },
     "metadata": {
      "needs_background": "light"
     },
     "output_type": "display_data"
    }
   ],
   "source": [
    "estrategia = EstrategiaParticionado.ValidacionCruzada(5)\n",
    "c1 = Clasificador.ClasificadorVecinosProximos(1, normalizar=True, weights='distance')\n",
    "error1 = c1.validacionRoc(estrategia, d_ex1, c1, 'knn_k=1', 45)\n",
    "#c2 = Clasificador.ClasificadorVecinosProximos(3, normalizar=True, weights='distance')\n",
    "#error2 = c1.validacionRoc(estrategia, d_ex1, c2, 'knn_k=3', 45)\n",
    "#c3 = Clasificador.ClasificadorVecinosProximos(5, normalizar=True, weights='distance')\n",
    "#error3 = c3.validacionRoc(estrategia, d_ex1, c3, 'knn_k=5', 45)\n",
    "#c4 = Clasificador.ClasificadorVecinosProximos(11, normalizar=True, weights='distance')\n",
    "#error4 = c4.validacionRoc(estrategia, d_ex1, c4, 'knn_k=11', 45)\n",
    "c5 = Clasificador.ClasificadorVecinosProximos(21, normalizar=True, weights='distance')\n",
    "error5 = c5.validacionRoc(estrategia, d_ex1, c5, 'knn_k=21', 45)\n",
    "c6 = Clasificador.ClasificadorVecinosProximos(51, normalizar=True, weights='distance')\n",
    "error6 = c6.validacionRoc(estrategia, d_ex1, c6, 'knn_k=51', 45)\n",
    "c7 = Clasificador.ClasificadorRegresionLogistica(nEpocas=100, constante=1)\n",
    "error7 = c7.validacionRoc(estrategia, d_ex1, c7, 'regresion nEp=100, c=1', 45)\n",
    "c8 = Clasificador.ClasificadorRegresionLogistica(nEpocas=1000, constante=1)\n",
    "error8 = c8.validacionRoc(estrategia, d_ex1, c8, 'regresion nEp=1000, c=1', 45)\n",
    "c9 = Clasificador.ClasificadorRegresionLogistica(nEpocas=100, constante=0.1)\n",
    "error9 = c9.validacionRoc(estrategia, d_ex1, c9, 'regresion nEp=100, c=0.1', 45)\n",
    "c10 = Clasificador.ClasificadorRegresionLogistica(nEpocas=1000, constante=0.1)\n",
    "error10 = c10.validacionRoc(estrategia, d_ex1, c10, 'regresion nEp=1000, c=0.1', 45)\n",
    "c11 = Clasificador.ClasificadorRegresionLogistica(nEpocas=100, constante=0.01)\n",
    "error11 = c11.validacionRoc(estrategia, d_ex1, c11, 'regresion nEp=100, c=0.01', 45)\n",
    "c12 = Clasificador.ClasificadorRegresionLogistica(nEpocas=1000, constante=0.01)\n",
    "error12 = c12.validacionRoc(estrategia, d_ex1, c12, 'regresion nEp=1000, c=0.01', 45)\n",
    "c13 = Clasificador.ClasificadorNaiveBayes()\n",
    "error13 = c13.validacionRoc(estrategia, d_ex1, c13, 'Naive Bayes', 45)\n",
    "c14 = Clasificador.ClasificadorNaiveBayes(correccionLaplace=True)\n",
    "error14 = c14.validacionRoc(estrategia, d_ex1, c14, 'Naive Bayes Laplace', 45)\n",
    "plt.show()"
   ]
  },
  {
   "cell_type": "code",
   "execution_count": null,
   "metadata": {},
   "outputs": [],
   "source": [
    "##WDBC\n",
    "d_ex1 = Datos('online_shoppers.data')\n",
    "estrategia = EstrategiaParticionado.ValidacionSimple(0.6)\n",
    "c1 = c.ClasificadorVecinosProximos(1, normalizar=True, weights='distance')\n",
    "error1 = c1.validacionRoc(estrategia, d_ex2, c1, 'knn_k=1', 45)\n",
    "c2 = c.ClasificadorVecinosProximos(3, normalizar=True, weights='distance')\n",
    "error2 = c1.validacionRoc(estrategia, d_ex2, c2, 'knn_k=3', 45)\n",
    "c3 = c.ClasificadorVecinosProximos(5, normalizar=True, weights='distance')\n",
    "error3 = c3.validacionRoc(estrategia, d_ex2, c3, 'knn_k=5', 45)\n",
    "c4 = c.ClasificadorVecinosProximos(11, normalizar=True, weights='distance')\n",
    "error4 = c4.validacionRoc(estrategia, d_ex2, c4, 'knn_k=11', 45)\n",
    "c5 = c.ClasificadorVecinosProximos(21, normalizar=True, weights='distance')\n",
    "error5 = c5.validacionRoc(estrategia, d_ex2, c5, 'knn_k=21', 45)\n",
    "c6 = c.ClasificadorVecinosProximos(51, normalizar=True, weights='distance')\n",
    "error6 = c6.validacionRoc(estrategia, d_ex2, c6, 'knn_k=51', 45)\n",
    "c7 = c.ClasificadorRegresionLogistica(nEpocas=100, constante=1)\n",
    "error7 = c7.validacionRoc(estrategia, d_ex2, c7, 'regresion nEp=100, c=1', 45, oneHot=True)\n",
    "c8 = c.ClasificadorRegresionLogistica(nEpocas=1000, constante=1)\n",
    "error8 = c8.validacionRoc(estrategia, d_ex2, c8, 'regresion nEp=1000, c=1', 45, oneHot=True)\n",
    "c9 = c.ClasificadorRegresionLogistica(nEpocas=100, constante=0.1)\n",
    "error9 = c9.validacionRoc(estrategia, d_ex2, c9, 'regresion nEp=100, c=0.1', 45, oneHot=True)\n",
    "c10 = c.ClasificadorRegresionLogistica(nEpocas=1000, constante=0.1)\n",
    "error10 = c10.validacionRoc(estrategia, d_ex2, c10, 'regresion nEp=1000, c=0.1', 45, oneHot=True)\n",
    "c11 = c.ClasificadorRegresionLogistica(nEpocas=100, constante=0.01)\n",
    "error11 = c11.validacionRoc(estrategia, d_ex2, c11, 'regresion nEp=100, c=0.01', 45, oneHot=True)\n",
    "c12 = c.ClasificadorRegresionLogistica(nEpocas=1000, constante=0.01)\n",
    "error12 = c12.validacionRoc(estrategia, d_ex2, c12, 'regresion nEp=1000, c=0.01', 45, oneHot=True)\n",
    "c13 = c.ClasificadorNaiveBayes()\n",
    "error13 = c13.validacionRoc(estrategia, d_ex2, c13, 'Naive Bayes', 45, oneHot=True)\n",
    "c14 = c.ClasificadorNaiveBayes(correccionLaplace=True)\n",
    "error14 = c14.validacionRoc(estrategia, d_ex2, c14, 'Naive Bayes Laplace', 45, oneHot=True)\n",
    "plt.show()"
   ]
  }
 ],
 "metadata": {
  "kernelspec": {
   "display_name": "Python 3",
   "language": "python",
   "name": "python3"
  },
  "language_info": {
   "codemirror_mode": {
    "name": "ipython",
    "version": 3
   },
   "file_extension": ".py",
   "mimetype": "text/x-python",
   "name": "python",
   "nbconvert_exporter": "python",
   "pygments_lexer": "ipython3",
   "version": "3.7.4"
  }
 },
 "nbformat": 4,
 "nbformat_minor": 2
}
